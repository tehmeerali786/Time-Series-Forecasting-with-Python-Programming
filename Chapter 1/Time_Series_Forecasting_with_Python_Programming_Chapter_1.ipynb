{
  "nbformat": 4,
  "nbformat_minor": 0,
  "metadata": {
    "colab": {
      "provenance": []
    },
    "kernelspec": {
      "name": "python3",
      "display_name": "Python 3"
    },
    "language_info": {
      "name": "python"
    }
  },
  "cells": [
    {
      "cell_type": "code",
      "source": [
        "!pip install timesynth"
      ],
      "metadata": {
        "colab": {
          "base_uri": "https://localhost:8080/"
        },
        "id": "zoWXs5sgOZ7D",
        "outputId": "b84d7a72-5935-49fc-ef36-be4dc053a9ea"
      },
      "execution_count": 11,
      "outputs": [
        {
          "output_type": "stream",
          "name": "stdout",
          "text": [
            "Requirement already satisfied: timesynth in /usr/local/lib/python3.10/dist-packages/timesynth-0.2.4-py3.10.egg (0.2.4)\n",
            "Requirement already satisfied: numpy in /usr/local/lib/python3.10/dist-packages (from timesynth) (1.23.5)\n",
            "Requirement already satisfied: scipy in /usr/local/lib/python3.10/dist-packages (from timesynth) (1.11.3)\n",
            "Requirement already satisfied: sympy in /usr/local/lib/python3.10/dist-packages (from timesynth) (1.12)\n",
            "Requirement already satisfied: symengine>=0.4 in /usr/local/lib/python3.10/dist-packages/symengine-0.10.0-py3.10-linux-x86_64.egg (from timesynth) (0.10.0)\n",
            "Requirement already satisfied: jitcdde==1.4 in /usr/local/lib/python3.10/dist-packages/jitcdde-1.4.0-py3.10.egg (from timesynth) (1.4.0)\n",
            "Requirement already satisfied: jitcxde_common==1.4.1 in /usr/local/lib/python3.10/dist-packages/jitcxde_common-1.4.1-py3.10.egg (from timesynth) (1.4.1)\n",
            "Requirement already satisfied: jinja2 in /usr/local/lib/python3.10/dist-packages (from jitcxde_common==1.4.1->timesynth) (3.1.2)\n",
            "Requirement already satisfied: setuptools in /usr/local/lib/python3.10/dist-packages (from jitcxde_common==1.4.1->timesynth) (67.7.2)\n",
            "Requirement already satisfied: mpmath>=0.19 in /usr/local/lib/python3.10/dist-packages (from sympy->timesynth) (1.3.0)\n",
            "Requirement already satisfied: MarkupSafe>=2.0 in /usr/local/lib/python3.10/dist-packages (from jinja2->jitcxde_common==1.4.1->timesynth) (2.1.3)\n"
          ]
        }
      ]
    },
    {
      "cell_type": "code",
      "execution_count": 66,
      "metadata": {
        "id": "Z6U4RAba8JB6"
      },
      "outputs": [],
      "source": [
        "import numpy as np\n",
        "import matplotlib.pyplot as plt\n",
        "import os\n",
        "import plotly.express as px\n",
        "import plotly.io as pio\n",
        "pio.templates.default = \"plotly_white\"\n",
        "import TimeSynth.timesynth as ts\n",
        "import pandas as pd\n",
        "np.random.seed()"
      ]
    },
    {
      "cell_type": "markdown",
      "source": [
        "# Data Generating Process and Time Series"
      ],
      "metadata": {
        "id": "h7EplTsZPLWD"
      }
    },
    {
      "cell_type": "code",
      "source": [
        "def plot_time_series(time, values, label, legends=None):\n",
        "    if legends is not None:\n",
        "        assert len(legends)==len(values)\n",
        "    if isinstance(values, list):\n",
        "        series_dict = {\"Time\": time}\n",
        "        for v, l in zip(values, legends):\n",
        "            series_dict[l] = v\n",
        "        plot_df = pd.DataFrame(series_dict)\n",
        "        plot_df = pd.melt(plot_df,id_vars=\"Time\",var_name=\"ts\", value_name=\"Value\")\n",
        "    else:\n",
        "        series_dict = {\"Time\": time, \"Value\": values, \"ts\":\"\"}\n",
        "        plot_df = pd.DataFrame(series_dict)\n",
        "\n",
        "    if isinstance(values, list):\n",
        "        fig = px.line(plot_df, x=\"Time\", y=\"Value\", line_dash=\"ts\")\n",
        "    else:\n",
        "        fig = px.line(plot_df, x=\"Time\", y=\"Value\")\n",
        "    fig.update_layout(\n",
        "        autosize=False,\n",
        "        width=900,\n",
        "        height=500,\n",
        "        title={\n",
        "        'text': label,\n",
        "#         'y':0.9,\n",
        "        'x':0.5,\n",
        "        'xanchor': 'center',\n",
        "        'yanchor': 'top'},\n",
        "        titlefont={\n",
        "            \"size\": 25\n",
        "        },\n",
        "        yaxis=dict(\n",
        "            title_text=\"Value\",\n",
        "            titlefont=dict(size=12),\n",
        "        ),\n",
        "        xaxis=dict(\n",
        "            title_text=\"Time\",\n",
        "            titlefont=dict(size=12),\n",
        "        )\n",
        "    )\n",
        "    return fig\n",
        "\n",
        "def generate_timeseries(signal, noise=None):\n",
        "    time_sampler = ts.TimeSampler(stop_time=20)\n",
        "    regular_time_samples = time_sampler.sample_regular_time(num_points=100)\n",
        "    timeseries = ts.TimeSeries(signal_generator=signal, noise_generator=noise)\n",
        "    samples, signals, errors = timeseries.sample(regular_time_samples)\n",
        "    return samples, regular_time_samples, signals, errors\n",
        "\n",
        "os.makedirs(\"imgs/chapter_1\", exist_ok=True)"
      ],
      "metadata": {
        "id": "XBrr_SE8PJFE"
      },
      "execution_count": 13,
      "outputs": []
    },
    {
      "cell_type": "code",
      "source": [
        "def generate_timeseries(signal, noise=None):\n",
        "  time_sampler = ts.TimeSampler(stop_time=20)\n",
        "  regular_time_samples = time_sampler.sample_regular_time(num_points=100)\n",
        "  timeseries = ts.TimeSeries(signal_generator=signal, noise_generator=noise)\n",
        "  samples, signals, errors = timeseries.sample(regular_time_samples)\n",
        "  return samples, regular_time_samples, signals, errors"
      ],
      "metadata": {
        "id": "UvOZ7Q4NMvhd"
      },
      "execution_count": 5,
      "outputs": []
    },
    {
      "cell_type": "code",
      "source": [
        "os.makedirs(\"img/chapter_1\", exist_ok=True)"
      ],
      "metadata": {
        "id": "z7VKRx3EbwcH"
      },
      "execution_count": 16,
      "outputs": []
    },
    {
      "cell_type": "code",
      "source": [
        "# Generate the time axis with sequential numbers of 200\n",
        "time = np.arange(200)\n",
        "# Sample 200 random values\n",
        "values = np.random.randn(200) * 100\n",
        "type(values)"
      ],
      "metadata": {
        "colab": {
          "base_uri": "https://localhost:8080/"
        },
        "id": "FXf8cxClcV42",
        "outputId": "7b8d6507-5a1b-40e5-ae2c-946688de24c0"
      },
      "execution_count": 14,
      "outputs": [
        {
          "output_type": "execute_result",
          "data": {
            "text/plain": [
              "numpy.ndarray"
            ]
          },
          "metadata": {},
          "execution_count": 14
        }
      ]
    },
    {
      "cell_type": "code",
      "source": [
        "!pip install kaleido"
      ],
      "metadata": {
        "colab": {
          "base_uri": "https://localhost:8080/"
        },
        "id": "RW2TVGltfUEn",
        "outputId": "9294291b-06b9-471d-f85f-60522a0d4fca"
      },
      "execution_count": 15,
      "outputs": [
        {
          "output_type": "stream",
          "name": "stdout",
          "text": [
            "Requirement already satisfied: kaleido in /usr/local/lib/python3.10/dist-packages (0.2.1)\n"
          ]
        }
      ]
    },
    {
      "cell_type": "code",
      "source": [
        "fig = plot_time_series(time, values, \"\")\n",
        "fig.write_image('img/chapter_1/white_noise_processing.png')\n",
        "fig.show()"
      ],
      "metadata": {
        "colab": {
          "base_uri": "https://localhost:8080/",
          "height": 517
        },
        "id": "Hvit2sM_dxvk",
        "outputId": "5647c67c-fb6e-40b3-819d-16c18606a2a5"
      },
      "execution_count": 16,
      "outputs": [
        {
          "output_type": "display_data",
          "data": {
            "text/html": [
              "<html>\n",
              "<head><meta charset=\"utf-8\" /></head>\n",
              "<body>\n",
              "    <div>            <script src=\"https://cdnjs.cloudflare.com/ajax/libs/mathjax/2.7.5/MathJax.js?config=TeX-AMS-MML_SVG\"></script><script type=\"text/javascript\">if (window.MathJax && window.MathJax.Hub && window.MathJax.Hub.Config) {window.MathJax.Hub.Config({SVG: {font: \"STIX-Web\"}});}</script>                <script type=\"text/javascript\">window.PlotlyConfig = {MathJaxConfig: 'local'};</script>\n",
              "        <script charset=\"utf-8\" src=\"https://cdn.plot.ly/plotly-2.24.1.min.js\"></script>                <div id=\"8aaddfa0-fd7f-492b-8f60-e4b33de8543e\" class=\"plotly-graph-div\" style=\"height:500px; width:900px;\"></div>            <script type=\"text/javascript\">                                    window.PLOTLYENV=window.PLOTLYENV || {};                                    if (document.getElementById(\"8aaddfa0-fd7f-492b-8f60-e4b33de8543e\")) {                    Plotly.newPlot(                        \"8aaddfa0-fd7f-492b-8f60-e4b33de8543e\",                        [{\"hovertemplate\":\"Time=%{x}\\u003cbr\\u003eValue=%{y}\\u003cextra\\u003e\\u003c\\u002fextra\\u003e\",\"legendgroup\":\"\",\"line\":{\"color\":\"#636efa\",\"dash\":\"solid\"},\"marker\":{\"symbol\":\"circle\"},\"mode\":\"lines\",\"name\":\"\",\"orientation\":\"v\",\"showlegend\":false,\"x\":[0,1,2,3,4,5,6,7,8,9,10,11,12,13,14,15,16,17,18,19,20,21,22,23,24,25,26,27,28,29,30,31,32,33,34,35,36,37,38,39,40,41,42,43,44,45,46,47,48,49,50,51,52,53,54,55,56,57,58,59,60,61,62,63,64,65,66,67,68,69,70,71,72,73,74,75,76,77,78,79,80,81,82,83,84,85,86,87,88,89,90,91,92,93,94,95,96,97,98,99,100,101,102,103,104,105,106,107,108,109,110,111,112,113,114,115,116,117,118,119,120,121,122,123,124,125,126,127,128,129,130,131,132,133,134,135,136,137,138,139,140,141,142,143,144,145,146,147,148,149,150,151,152,153,154,155,156,157,158,159,160,161,162,163,164,165,166,167,168,169,170,171,172,173,174,175,176,177,178,179,180,181,182,183,184,185,186,187,188,189,190,191,192,193,194,195,196,197,198,199],\"xaxis\":\"x\",\"y\":[-61.62531501658306,58.93039571158921,-93.24006753773936,-23.661356753767226,151.6008852925339,-153.48228515978406,14.075663567517138,27.52301206079608,-25.864239472196044,-41.2441497766099,136.40575515305193,-112.3626357888243,90.70738986271532,103.18696538713677,87.81317930155363,75.4068918413416,27.19627676798364,-111.7377159191553,-45.22669965576831,-99.74100653816714,111.52607590399062,157.1114205018316,-37.84693115992272,41.95364649785675,95.69687301723454,48.01668288652661,33.11836290626405,-141.73164068334728,-94.67099073433853,-57.772710346899125,25.56916258265568,110.86598847524218,152.6118179208989,-202.8757568967285,34.652116991736534,-29.686633979027448,-116.65914679108909,31.413358924126868,-99.21329730439575,-79.80066400738407,-26.328188055869617,37.12266529198755,118.08003258220793,-98.92995817592943,56.964526697632564,69.592484467276,202.00940198710921,-17.86594950076887,57.02425102992771,-0.7601622553213506,13.925012559827099,-30.27751157652406,-6.32975470632289,73.42402170578853,158.636749825368,-66.50927795943156,-104.79075346606419,-124.0237997177243,137.79009860171482,-177.76844267954263,-0.6811115916486924,28.620946628325733,99.21751150169995,48.239244507591856,61.45463565129663,93.28088920603963,57.171949204817295,143.14076253346127,26.925586889168468,38.04794674822432,-182.70088982874972,124.85881303293172,-233.22638396740686,-144.1747044480631,-31.930462077309592,180.67646280881354,-16.457030570894027,118.30680739720944,-69.08080826499511,149.66934908695504,53.11918489856382,-114.26379471912695,-182.291833920347,51.18990491540904,-91.98217486048429,-177.80748506774836,124.63340633411659,-36.42295945768397,150.6730991309729,-17.93621832592967,-43.712396809919305,-13.519612938633246,25.713141358853424,-135.93900619682364,12.726450120575244,7.41641771868649,3.7381995857504227,142.05345537087518,-92.38073815189775,5.276172959026441,43.88179575051181,-74.78849728742476,-119.2312894031566,33.60316413746587,-121.21279401264151,180.28792351924076,112.71376751496614,-26.55705541222696,-66.76527075040168,-92.57455398104466,-21.333273007906893,-191.58586874845352,-114.36570824761287,-113.25440587118703,11.936174297801115,82.83679298361571,78.39188177163139,-71.76694179026168,9.768667377029718,10.458484452311229,-177.56850678987496,41.755065517733044,-197.9479129776069,-45.652996082718076,-125.03910918191539,-0.5024941146892107,-162.64666398606568,101.1323620904899,82.14462681707433,-24.975544945500037,-89.24117701163333,-13.406136590332753,-145.70557114970134,2.045233190226396,130.04443912816205,56.70185240869341,-31.96759841279833,50.94896210795047,56.079535337526686,-7.374056505379854,54.3121241005447,-176.75244432996,15.44560298904774,-32.77625822881451,2.4179435060117003,-37.46434701967181,10.508564216155168,8.016048344459252,7.918905435868144,101.66571321119848,-10.508779194808431,-62.53000448776929,107.46953417360348,130.6690795086771,17.493089131982607,105.26841393700248,15.942207802806504,-95.78397046789439,50.89918679853519,22.504238546615962,-53.95240061392532,-78.92981255489869,121.95082678909827,79.31303502415109,76.72140459992036,30.925398649354353,83.3392049284778,-125.39476692152576,61.701662108932496,-140.90847612748672,-164.0755154501503,-30.518930560840996,24.76851381774512,-30.402118637671727,120.37721977204146,117.23988596345676,-15.752940573667363,-5.68536810342103,59.52646884428864,10.977709726745347,-57.1643581542197,-135.75464014765805,-111.74499211310196,-78.39442070735984,-130.22735692987396,70.53937742288815,14.748907107076882,41.29511720145799,-164.1115587537739,-121.74814571626065,141.32219517909235,174.44607787255333,-16.302826322890596,-3.6581105118449595,196.09115932535173,-45.78930749849502,174.05946867406396,46.06191441245887,20.74907186350557,53.53135841545383],\"yaxis\":\"y\",\"type\":\"scatter\"}],                        {\"template\":{\"data\":{\"histogram2dcontour\":[{\"type\":\"histogram2dcontour\",\"colorbar\":{\"outlinewidth\":0,\"ticks\":\"\"},\"colorscale\":[[0.0,\"#0d0887\"],[0.1111111111111111,\"#46039f\"],[0.2222222222222222,\"#7201a8\"],[0.3333333333333333,\"#9c179e\"],[0.4444444444444444,\"#bd3786\"],[0.5555555555555556,\"#d8576b\"],[0.6666666666666666,\"#ed7953\"],[0.7777777777777778,\"#fb9f3a\"],[0.8888888888888888,\"#fdca26\"],[1.0,\"#f0f921\"]]}],\"choropleth\":[{\"type\":\"choropleth\",\"colorbar\":{\"outlinewidth\":0,\"ticks\":\"\"}}],\"histogram2d\":[{\"type\":\"histogram2d\",\"colorbar\":{\"outlinewidth\":0,\"ticks\":\"\"},\"colorscale\":[[0.0,\"#0d0887\"],[0.1111111111111111,\"#46039f\"],[0.2222222222222222,\"#7201a8\"],[0.3333333333333333,\"#9c179e\"],[0.4444444444444444,\"#bd3786\"],[0.5555555555555556,\"#d8576b\"],[0.6666666666666666,\"#ed7953\"],[0.7777777777777778,\"#fb9f3a\"],[0.8888888888888888,\"#fdca26\"],[1.0,\"#f0f921\"]]}],\"heatmap\":[{\"type\":\"heatmap\",\"colorbar\":{\"outlinewidth\":0,\"ticks\":\"\"},\"colorscale\":[[0.0,\"#0d0887\"],[0.1111111111111111,\"#46039f\"],[0.2222222222222222,\"#7201a8\"],[0.3333333333333333,\"#9c179e\"],[0.4444444444444444,\"#bd3786\"],[0.5555555555555556,\"#d8576b\"],[0.6666666666666666,\"#ed7953\"],[0.7777777777777778,\"#fb9f3a\"],[0.8888888888888888,\"#fdca26\"],[1.0,\"#f0f921\"]]}],\"heatmapgl\":[{\"type\":\"heatmapgl\",\"colorbar\":{\"outlinewidth\":0,\"ticks\":\"\"},\"colorscale\":[[0.0,\"#0d0887\"],[0.1111111111111111,\"#46039f\"],[0.2222222222222222,\"#7201a8\"],[0.3333333333333333,\"#9c179e\"],[0.4444444444444444,\"#bd3786\"],[0.5555555555555556,\"#d8576b\"],[0.6666666666666666,\"#ed7953\"],[0.7777777777777778,\"#fb9f3a\"],[0.8888888888888888,\"#fdca26\"],[1.0,\"#f0f921\"]]}],\"contourcarpet\":[{\"type\":\"contourcarpet\",\"colorbar\":{\"outlinewidth\":0,\"ticks\":\"\"}}],\"contour\":[{\"type\":\"contour\",\"colorbar\":{\"outlinewidth\":0,\"ticks\":\"\"},\"colorscale\":[[0.0,\"#0d0887\"],[0.1111111111111111,\"#46039f\"],[0.2222222222222222,\"#7201a8\"],[0.3333333333333333,\"#9c179e\"],[0.4444444444444444,\"#bd3786\"],[0.5555555555555556,\"#d8576b\"],[0.6666666666666666,\"#ed7953\"],[0.7777777777777778,\"#fb9f3a\"],[0.8888888888888888,\"#fdca26\"],[1.0,\"#f0f921\"]]}],\"surface\":[{\"type\":\"surface\",\"colorbar\":{\"outlinewidth\":0,\"ticks\":\"\"},\"colorscale\":[[0.0,\"#0d0887\"],[0.1111111111111111,\"#46039f\"],[0.2222222222222222,\"#7201a8\"],[0.3333333333333333,\"#9c179e\"],[0.4444444444444444,\"#bd3786\"],[0.5555555555555556,\"#d8576b\"],[0.6666666666666666,\"#ed7953\"],[0.7777777777777778,\"#fb9f3a\"],[0.8888888888888888,\"#fdca26\"],[1.0,\"#f0f921\"]]}],\"mesh3d\":[{\"type\":\"mesh3d\",\"colorbar\":{\"outlinewidth\":0,\"ticks\":\"\"}}],\"scatter\":[{\"fillpattern\":{\"fillmode\":\"overlay\",\"size\":10,\"solidity\":0.2},\"type\":\"scatter\"}],\"parcoords\":[{\"type\":\"parcoords\",\"line\":{\"colorbar\":{\"outlinewidth\":0,\"ticks\":\"\"}}}],\"scatterpolargl\":[{\"type\":\"scatterpolargl\",\"marker\":{\"colorbar\":{\"outlinewidth\":0,\"ticks\":\"\"}}}],\"bar\":[{\"error_x\":{\"color\":\"#2a3f5f\"},\"error_y\":{\"color\":\"#2a3f5f\"},\"marker\":{\"line\":{\"color\":\"white\",\"width\":0.5},\"pattern\":{\"fillmode\":\"overlay\",\"size\":10,\"solidity\":0.2}},\"type\":\"bar\"}],\"scattergeo\":[{\"type\":\"scattergeo\",\"marker\":{\"colorbar\":{\"outlinewidth\":0,\"ticks\":\"\"}}}],\"scatterpolar\":[{\"type\":\"scatterpolar\",\"marker\":{\"colorbar\":{\"outlinewidth\":0,\"ticks\":\"\"}}}],\"histogram\":[{\"marker\":{\"pattern\":{\"fillmode\":\"overlay\",\"size\":10,\"solidity\":0.2}},\"type\":\"histogram\"}],\"scattergl\":[{\"type\":\"scattergl\",\"marker\":{\"colorbar\":{\"outlinewidth\":0,\"ticks\":\"\"}}}],\"scatter3d\":[{\"type\":\"scatter3d\",\"line\":{\"colorbar\":{\"outlinewidth\":0,\"ticks\":\"\"}},\"marker\":{\"colorbar\":{\"outlinewidth\":0,\"ticks\":\"\"}}}],\"scattermapbox\":[{\"type\":\"scattermapbox\",\"marker\":{\"colorbar\":{\"outlinewidth\":0,\"ticks\":\"\"}}}],\"scatterternary\":[{\"type\":\"scatterternary\",\"marker\":{\"colorbar\":{\"outlinewidth\":0,\"ticks\":\"\"}}}],\"scattercarpet\":[{\"type\":\"scattercarpet\",\"marker\":{\"colorbar\":{\"outlinewidth\":0,\"ticks\":\"\"}}}],\"carpet\":[{\"aaxis\":{\"endlinecolor\":\"#2a3f5f\",\"gridcolor\":\"#C8D4E3\",\"linecolor\":\"#C8D4E3\",\"minorgridcolor\":\"#C8D4E3\",\"startlinecolor\":\"#2a3f5f\"},\"baxis\":{\"endlinecolor\":\"#2a3f5f\",\"gridcolor\":\"#C8D4E3\",\"linecolor\":\"#C8D4E3\",\"minorgridcolor\":\"#C8D4E3\",\"startlinecolor\":\"#2a3f5f\"},\"type\":\"carpet\"}],\"table\":[{\"cells\":{\"fill\":{\"color\":\"#EBF0F8\"},\"line\":{\"color\":\"white\"}},\"header\":{\"fill\":{\"color\":\"#C8D4E3\"},\"line\":{\"color\":\"white\"}},\"type\":\"table\"}],\"barpolar\":[{\"marker\":{\"line\":{\"color\":\"white\",\"width\":0.5},\"pattern\":{\"fillmode\":\"overlay\",\"size\":10,\"solidity\":0.2}},\"type\":\"barpolar\"}],\"pie\":[{\"automargin\":true,\"type\":\"pie\"}]},\"layout\":{\"autotypenumbers\":\"strict\",\"colorway\":[\"#636efa\",\"#EF553B\",\"#00cc96\",\"#ab63fa\",\"#FFA15A\",\"#19d3f3\",\"#FF6692\",\"#B6E880\",\"#FF97FF\",\"#FECB52\"],\"font\":{\"color\":\"#2a3f5f\"},\"hovermode\":\"closest\",\"hoverlabel\":{\"align\":\"left\"},\"paper_bgcolor\":\"white\",\"plot_bgcolor\":\"white\",\"polar\":{\"bgcolor\":\"white\",\"angularaxis\":{\"gridcolor\":\"#EBF0F8\",\"linecolor\":\"#EBF0F8\",\"ticks\":\"\"},\"radialaxis\":{\"gridcolor\":\"#EBF0F8\",\"linecolor\":\"#EBF0F8\",\"ticks\":\"\"}},\"ternary\":{\"bgcolor\":\"white\",\"aaxis\":{\"gridcolor\":\"#DFE8F3\",\"linecolor\":\"#A2B1C6\",\"ticks\":\"\"},\"baxis\":{\"gridcolor\":\"#DFE8F3\",\"linecolor\":\"#A2B1C6\",\"ticks\":\"\"},\"caxis\":{\"gridcolor\":\"#DFE8F3\",\"linecolor\":\"#A2B1C6\",\"ticks\":\"\"}},\"coloraxis\":{\"colorbar\":{\"outlinewidth\":0,\"ticks\":\"\"}},\"colorscale\":{\"sequential\":[[0.0,\"#0d0887\"],[0.1111111111111111,\"#46039f\"],[0.2222222222222222,\"#7201a8\"],[0.3333333333333333,\"#9c179e\"],[0.4444444444444444,\"#bd3786\"],[0.5555555555555556,\"#d8576b\"],[0.6666666666666666,\"#ed7953\"],[0.7777777777777778,\"#fb9f3a\"],[0.8888888888888888,\"#fdca26\"],[1.0,\"#f0f921\"]],\"sequentialminus\":[[0.0,\"#0d0887\"],[0.1111111111111111,\"#46039f\"],[0.2222222222222222,\"#7201a8\"],[0.3333333333333333,\"#9c179e\"],[0.4444444444444444,\"#bd3786\"],[0.5555555555555556,\"#d8576b\"],[0.6666666666666666,\"#ed7953\"],[0.7777777777777778,\"#fb9f3a\"],[0.8888888888888888,\"#fdca26\"],[1.0,\"#f0f921\"]],\"diverging\":[[0,\"#8e0152\"],[0.1,\"#c51b7d\"],[0.2,\"#de77ae\"],[0.3,\"#f1b6da\"],[0.4,\"#fde0ef\"],[0.5,\"#f7f7f7\"],[0.6,\"#e6f5d0\"],[0.7,\"#b8e186\"],[0.8,\"#7fbc41\"],[0.9,\"#4d9221\"],[1,\"#276419\"]]},\"xaxis\":{\"gridcolor\":\"#EBF0F8\",\"linecolor\":\"#EBF0F8\",\"ticks\":\"\",\"title\":{\"standoff\":15},\"zerolinecolor\":\"#EBF0F8\",\"automargin\":true,\"zerolinewidth\":2},\"yaxis\":{\"gridcolor\":\"#EBF0F8\",\"linecolor\":\"#EBF0F8\",\"ticks\":\"\",\"title\":{\"standoff\":15},\"zerolinecolor\":\"#EBF0F8\",\"automargin\":true,\"zerolinewidth\":2},\"scene\":{\"xaxis\":{\"backgroundcolor\":\"white\",\"gridcolor\":\"#DFE8F3\",\"linecolor\":\"#EBF0F8\",\"showbackground\":true,\"ticks\":\"\",\"zerolinecolor\":\"#EBF0F8\",\"gridwidth\":2},\"yaxis\":{\"backgroundcolor\":\"white\",\"gridcolor\":\"#DFE8F3\",\"linecolor\":\"#EBF0F8\",\"showbackground\":true,\"ticks\":\"\",\"zerolinecolor\":\"#EBF0F8\",\"gridwidth\":2},\"zaxis\":{\"backgroundcolor\":\"white\",\"gridcolor\":\"#DFE8F3\",\"linecolor\":\"#EBF0F8\",\"showbackground\":true,\"ticks\":\"\",\"zerolinecolor\":\"#EBF0F8\",\"gridwidth\":2}},\"shapedefaults\":{\"line\":{\"color\":\"#2a3f5f\"}},\"annotationdefaults\":{\"arrowcolor\":\"#2a3f5f\",\"arrowhead\":0,\"arrowwidth\":1},\"geo\":{\"bgcolor\":\"white\",\"landcolor\":\"white\",\"subunitcolor\":\"#C8D4E3\",\"showland\":true,\"showlakes\":true,\"lakecolor\":\"white\"},\"title\":{\"x\":0.05},\"mapbox\":{\"style\":\"light\"}}},\"xaxis\":{\"anchor\":\"y\",\"domain\":[0.0,1.0],\"title\":{\"text\":\"Time\",\"font\":{\"size\":12}}},\"yaxis\":{\"anchor\":\"x\",\"domain\":[0.0,1.0],\"title\":{\"text\":\"Value\",\"font\":{\"size\":12}}},\"legend\":{\"tracegroupgap\":0},\"margin\":{\"t\":60},\"title\":{\"font\":{\"size\":25},\"text\":\"\",\"x\":0.5,\"xanchor\":\"center\",\"yanchor\":\"top\"},\"autosize\":false,\"width\":900,\"height\":500},                        {\"responsive\": true}                    ).then(function(){\n",
              "                            \n",
              "var gd = document.getElementById('8aaddfa0-fd7f-492b-8f60-e4b33de8543e');\n",
              "var x = new MutationObserver(function (mutations, observer) {{\n",
              "        var display = window.getComputedStyle(gd).display;\n",
              "        if (!display || display === 'none') {{\n",
              "            console.log([gd, 'removed!']);\n",
              "            Plotly.purge(gd);\n",
              "            observer.disconnect();\n",
              "        }}\n",
              "}});\n",
              "\n",
              "// Listen for the removal of the full notebook cells\n",
              "var notebookContainer = gd.closest('#notebook-container');\n",
              "if (notebookContainer) {{\n",
              "    x.observe(notebookContainer, {childList: true});\n",
              "}}\n",
              "\n",
              "// Listen for the clearing of the current output cell\n",
              "var outputEl = gd.closest('.output');\n",
              "if (outputEl) {{\n",
              "    x.observe(outputEl, {childList: true});\n",
              "}}\n",
              "\n",
              "                        })                };                            </script>        </div>\n",
              "</body>\n",
              "</html>"
            ]
          },
          "metadata": {}
        }
      ]
    },
    {
      "cell_type": "markdown",
      "source": [
        "# Red Noise"
      ],
      "metadata": {
        "id": "cMH0vXEgjGz2"
      }
    },
    {
      "cell_type": "markdown",
      "source": [
        "$x_{j+1} = r.x_{j} + \\sqrt(1-r^2) . w$"
      ],
      "metadata": {
        "id": "wotlG2t1siuM"
      }
    },
    {
      "cell_type": "code",
      "source": [
        "# Setting the correlation coefficient\n",
        "r = 0.4\n",
        "# Generate the time axis\n",
        "time = np.arange(200)\n",
        "# Generate white noise\n",
        "white_noise = np.random.randn(200) * 100\n",
        "# Create Red Noise by introducing correlation between\n",
        "# subsequent values in the white noise\n",
        "values = np.zeros(200)\n",
        "for i, v in enumerate(white_noise):\n",
        "  if i == 0:\n",
        "    values[i] = v\n",
        "  else:\n",
        "    values[i] = r * values[i-1] + np.sqrt((1-np.power(r, 2))) * v\n",
        ""
      ],
      "metadata": {
        "id": "EaCjnqTBeCVj"
      },
      "execution_count": 17,
      "outputs": []
    },
    {
      "cell_type": "code",
      "source": [
        "np.sqrt(1-np.power(0.4, 2))"
      ],
      "metadata": {
        "colab": {
          "base_uri": "https://localhost:8080/"
        },
        "id": "2YK2EMOuxbI1",
        "outputId": "1226290a-92d2-4758-e44f-34581658989a"
      },
      "execution_count": 21,
      "outputs": [
        {
          "output_type": "execute_result",
          "data": {
            "text/plain": [
              "0.916515138991168"
            ]
          },
          "metadata": {},
          "execution_count": 21
        }
      ]
    },
    {
      "cell_type": "code",
      "source": [
        "plot_time_series(time, values, \"Red Noise Process\")"
      ],
      "metadata": {
        "colab": {
          "base_uri": "https://localhost:8080/",
          "height": 517
        },
        "id": "3L7fS1_xumIr",
        "outputId": "e949c1fd-38c8-4f7f-c256-0b43cda45cf5"
      },
      "execution_count": 18,
      "outputs": [
        {
          "output_type": "display_data",
          "data": {
            "text/html": [
              "<html>\n",
              "<head><meta charset=\"utf-8\" /></head>\n",
              "<body>\n",
              "    <div>            <script src=\"https://cdnjs.cloudflare.com/ajax/libs/mathjax/2.7.5/MathJax.js?config=TeX-AMS-MML_SVG\"></script><script type=\"text/javascript\">if (window.MathJax && window.MathJax.Hub && window.MathJax.Hub.Config) {window.MathJax.Hub.Config({SVG: {font: \"STIX-Web\"}});}</script>                <script type=\"text/javascript\">window.PlotlyConfig = {MathJaxConfig: 'local'};</script>\n",
              "        <script charset=\"utf-8\" src=\"https://cdn.plot.ly/plotly-2.24.1.min.js\"></script>                <div id=\"fa9209c2-7285-457c-9789-e04e6bfbd5dd\" class=\"plotly-graph-div\" style=\"height:500px; width:900px;\"></div>            <script type=\"text/javascript\">                                    window.PLOTLYENV=window.PLOTLYENV || {};                                    if (document.getElementById(\"fa9209c2-7285-457c-9789-e04e6bfbd5dd\")) {                    Plotly.newPlot(                        \"fa9209c2-7285-457c-9789-e04e6bfbd5dd\",                        [{\"hovertemplate\":\"Time=%{x}\\u003cbr\\u003eValue=%{y}\\u003cextra\\u003e\\u003c\\u002fextra\\u003e\",\"legendgroup\":\"\",\"line\":{\"color\":\"#636efa\",\"dash\":\"solid\"},\"marker\":{\"symbol\":\"circle\"},\"mode\":\"lines\",\"name\":\"\",\"orientation\":\"v\",\"showlegend\":false,\"x\":[0,1,2,3,4,5,6,7,8,9,10,11,12,13,14,15,16,17,18,19,20,21,22,23,24,25,26,27,28,29,30,31,32,33,34,35,36,37,38,39,40,41,42,43,44,45,46,47,48,49,50,51,52,53,54,55,56,57,58,59,60,61,62,63,64,65,66,67,68,69,70,71,72,73,74,75,76,77,78,79,80,81,82,83,84,85,86,87,88,89,90,91,92,93,94,95,96,97,98,99,100,101,102,103,104,105,106,107,108,109,110,111,112,113,114,115,116,117,118,119,120,121,122,123,124,125,126,127,128,129,130,131,132,133,134,135,136,137,138,139,140,141,142,143,144,145,146,147,148,149,150,151,152,153,154,155,156,157,158,159,160,161,162,163,164,165,166,167,168,169,170,171,172,173,174,175,176,177,178,179,180,181,182,183,184,185,186,187,188,189,190,191,192,193,194,195,196,197,198,199],\"xaxis\":\"x\",\"y\":[-117.725441091201,-58.44422141383551,-100.32956788172645,-184.58211203319985,-174.11671644068616,-137.0922667892866,-163.2551097103232,-46.31056242562877,-63.52086704779009,50.620840603497996,60.84163755539176,193.3481792702135,-77.58522294398792,-78.05431936675896,-40.6635233499741,-23.638035713521326,-21.971323705755744,118.51563962905661,-10.897706302117228,-18.728902273537287,52.961660933387584,-33.900349767873884,-158.44683870960765,-12.019125217840191,-152.75264990238537,-210.6842333395633,-217.00208505098595,-81.87574578453518,-9.965928534789718,-1.0847776135587655,-101.05099541187805,-41.06360707706598,159.43956067812576,111.88893140862639,26.02215877566994,-213.20197700235593,16.70038087208026,123.4848473343262,202.79963520366422,56.44372127970874,13.131729179738315,-149.78658509260612,32.75512313949402,157.10740669264237,-7.762805680948411,-67.15663633677934,-36.38586889601502,67.06973713078676,-60.69777275121998,-26.472329085605267,-139.5864667894532,-25.047861802837474,-181.4177237435062,-202.578839388127,-55.99877128205272,121.74196111281017,42.84112790230988,23.04351080808743,-45.48730722201446,-83.18687035761212,-22.363753584498323,-60.938731571318954,-179.47603646008426,-197.58736974217595,-148.54399897769906,84.69008906093356,42.82231493633695,69.64721407160582,38.646811791765785,8.612228874224936,-172.0689184685448,-63.892062958560544,77.88167924522176,54.37259451406735,-127.53408139650303,74.0357866410702,51.88994049105921,74.16397173032168,96.51230460550298,279.5618964216121,58.66208658764572,6.729015581823777,-56.52116624870019,58.26139882463683,58.38760298702057,7.326174460477535,-63.27214291752097,-58.33238966413587,-166.47281681806427,-69.21959391094533,-14.046087433879329,29.13427855816214,-16.228702602400112,-43.76952864995213,-97.50698388819056,-94.32921891943911,-107.5404484953824,-194.99860404545885,-161.16205595526873,-89.42598286698734,-226.05702288301472,-69.7904004110854,-63.681881806744876,7.331512938297291,22.326070291456535,-132.03644317756076,-66.58511302464858,-77.96480801068846,56.604250142641106,-14.560721226904416,59.25179708462263,-73.35873954575987,-184.9189055247634,53.74513868170064,52.70076942813478,35.06759957135524,118.33638141039397,-49.62204497035931,-72.0431321020519,106.4977861152622,-14.008970733016447,-98.81508802022685,-139.4325962728825,-107.92263071169013,-113.08720987159091,-48.369133129669606,-69.29952258211506,17.375350315486823,30.24231678233288,-68.07131025837946,64.100089708473,-105.0275869688736,-87.90449722426555,-175.68797107406158,-82.95749290600354,29.76187139928811,52.57510189741199,185.21503743244205,-12.427159699727852,67.71367799996163,132.3149316886702,-118.8605816932476,-47.379356671539526,76.62439369900481,62.88743255365647,-59.64759139556596,-221.43411988819915,0.002112908916899414,-55.72833203485366,-100.66898539440874,-254.81501400293934,-61.456879973224105,21.34484427072167,-149.78852862338817,9.822623805088242,-136.04781244929507,-61.48597795494291,133.36784542522363,112.04468899666631,9.32051977421402,-82.76973240508102,-95.53660577338937,2.835042228901713,46.149081971313315,-61.81334420768127,36.125071042447125,122.31810072611673,0.33973026050008315,66.96034737727811,105.13119027230923,-98.34642775685879,-176.60948736882727,-101.44147501034928,-172.81448559355832,-65.2927392193255,-105.35145306986199,45.950579753476156,118.72855202649004,75.3204543203149,-106.80938175418001,13.03050253035866,85.60358602574085,126.9191379577664,1.106304410270397,-8.13945221407156,-89.26317657485882,-58.531051396297386,-25.70275159139518,60.55611294916593,-93.07167791250976,39.91840250282672,242.77245256281674,11.95013014548293,41.21420995514934,307.1075272334397,202.52906113170795,-14.341042444536015,-55.934973645324675,-78.34864325371093,31.945061638282304],\"yaxis\":\"y\",\"type\":\"scatter\"}],                        {\"template\":{\"data\":{\"histogram2dcontour\":[{\"type\":\"histogram2dcontour\",\"colorbar\":{\"outlinewidth\":0,\"ticks\":\"\"},\"colorscale\":[[0.0,\"#0d0887\"],[0.1111111111111111,\"#46039f\"],[0.2222222222222222,\"#7201a8\"],[0.3333333333333333,\"#9c179e\"],[0.4444444444444444,\"#bd3786\"],[0.5555555555555556,\"#d8576b\"],[0.6666666666666666,\"#ed7953\"],[0.7777777777777778,\"#fb9f3a\"],[0.8888888888888888,\"#fdca26\"],[1.0,\"#f0f921\"]]}],\"choropleth\":[{\"type\":\"choropleth\",\"colorbar\":{\"outlinewidth\":0,\"ticks\":\"\"}}],\"histogram2d\":[{\"type\":\"histogram2d\",\"colorbar\":{\"outlinewidth\":0,\"ticks\":\"\"},\"colorscale\":[[0.0,\"#0d0887\"],[0.1111111111111111,\"#46039f\"],[0.2222222222222222,\"#7201a8\"],[0.3333333333333333,\"#9c179e\"],[0.4444444444444444,\"#bd3786\"],[0.5555555555555556,\"#d8576b\"],[0.6666666666666666,\"#ed7953\"],[0.7777777777777778,\"#fb9f3a\"],[0.8888888888888888,\"#fdca26\"],[1.0,\"#f0f921\"]]}],\"heatmap\":[{\"type\":\"heatmap\",\"colorbar\":{\"outlinewidth\":0,\"ticks\":\"\"},\"colorscale\":[[0.0,\"#0d0887\"],[0.1111111111111111,\"#46039f\"],[0.2222222222222222,\"#7201a8\"],[0.3333333333333333,\"#9c179e\"],[0.4444444444444444,\"#bd3786\"],[0.5555555555555556,\"#d8576b\"],[0.6666666666666666,\"#ed7953\"],[0.7777777777777778,\"#fb9f3a\"],[0.8888888888888888,\"#fdca26\"],[1.0,\"#f0f921\"]]}],\"heatmapgl\":[{\"type\":\"heatmapgl\",\"colorbar\":{\"outlinewidth\":0,\"ticks\":\"\"},\"colorscale\":[[0.0,\"#0d0887\"],[0.1111111111111111,\"#46039f\"],[0.2222222222222222,\"#7201a8\"],[0.3333333333333333,\"#9c179e\"],[0.4444444444444444,\"#bd3786\"],[0.5555555555555556,\"#d8576b\"],[0.6666666666666666,\"#ed7953\"],[0.7777777777777778,\"#fb9f3a\"],[0.8888888888888888,\"#fdca26\"],[1.0,\"#f0f921\"]]}],\"contourcarpet\":[{\"type\":\"contourcarpet\",\"colorbar\":{\"outlinewidth\":0,\"ticks\":\"\"}}],\"contour\":[{\"type\":\"contour\",\"colorbar\":{\"outlinewidth\":0,\"ticks\":\"\"},\"colorscale\":[[0.0,\"#0d0887\"],[0.1111111111111111,\"#46039f\"],[0.2222222222222222,\"#7201a8\"],[0.3333333333333333,\"#9c179e\"],[0.4444444444444444,\"#bd3786\"],[0.5555555555555556,\"#d8576b\"],[0.6666666666666666,\"#ed7953\"],[0.7777777777777778,\"#fb9f3a\"],[0.8888888888888888,\"#fdca26\"],[1.0,\"#f0f921\"]]}],\"surface\":[{\"type\":\"surface\",\"colorbar\":{\"outlinewidth\":0,\"ticks\":\"\"},\"colorscale\":[[0.0,\"#0d0887\"],[0.1111111111111111,\"#46039f\"],[0.2222222222222222,\"#7201a8\"],[0.3333333333333333,\"#9c179e\"],[0.4444444444444444,\"#bd3786\"],[0.5555555555555556,\"#d8576b\"],[0.6666666666666666,\"#ed7953\"],[0.7777777777777778,\"#fb9f3a\"],[0.8888888888888888,\"#fdca26\"],[1.0,\"#f0f921\"]]}],\"mesh3d\":[{\"type\":\"mesh3d\",\"colorbar\":{\"outlinewidth\":0,\"ticks\":\"\"}}],\"scatter\":[{\"fillpattern\":{\"fillmode\":\"overlay\",\"size\":10,\"solidity\":0.2},\"type\":\"scatter\"}],\"parcoords\":[{\"type\":\"parcoords\",\"line\":{\"colorbar\":{\"outlinewidth\":0,\"ticks\":\"\"}}}],\"scatterpolargl\":[{\"type\":\"scatterpolargl\",\"marker\":{\"colorbar\":{\"outlinewidth\":0,\"ticks\":\"\"}}}],\"bar\":[{\"error_x\":{\"color\":\"#2a3f5f\"},\"error_y\":{\"color\":\"#2a3f5f\"},\"marker\":{\"line\":{\"color\":\"white\",\"width\":0.5},\"pattern\":{\"fillmode\":\"overlay\",\"size\":10,\"solidity\":0.2}},\"type\":\"bar\"}],\"scattergeo\":[{\"type\":\"scattergeo\",\"marker\":{\"colorbar\":{\"outlinewidth\":0,\"ticks\":\"\"}}}],\"scatterpolar\":[{\"type\":\"scatterpolar\",\"marker\":{\"colorbar\":{\"outlinewidth\":0,\"ticks\":\"\"}}}],\"histogram\":[{\"marker\":{\"pattern\":{\"fillmode\":\"overlay\",\"size\":10,\"solidity\":0.2}},\"type\":\"histogram\"}],\"scattergl\":[{\"type\":\"scattergl\",\"marker\":{\"colorbar\":{\"outlinewidth\":0,\"ticks\":\"\"}}}],\"scatter3d\":[{\"type\":\"scatter3d\",\"line\":{\"colorbar\":{\"outlinewidth\":0,\"ticks\":\"\"}},\"marker\":{\"colorbar\":{\"outlinewidth\":0,\"ticks\":\"\"}}}],\"scattermapbox\":[{\"type\":\"scattermapbox\",\"marker\":{\"colorbar\":{\"outlinewidth\":0,\"ticks\":\"\"}}}],\"scatterternary\":[{\"type\":\"scatterternary\",\"marker\":{\"colorbar\":{\"outlinewidth\":0,\"ticks\":\"\"}}}],\"scattercarpet\":[{\"type\":\"scattercarpet\",\"marker\":{\"colorbar\":{\"outlinewidth\":0,\"ticks\":\"\"}}}],\"carpet\":[{\"aaxis\":{\"endlinecolor\":\"#2a3f5f\",\"gridcolor\":\"#C8D4E3\",\"linecolor\":\"#C8D4E3\",\"minorgridcolor\":\"#C8D4E3\",\"startlinecolor\":\"#2a3f5f\"},\"baxis\":{\"endlinecolor\":\"#2a3f5f\",\"gridcolor\":\"#C8D4E3\",\"linecolor\":\"#C8D4E3\",\"minorgridcolor\":\"#C8D4E3\",\"startlinecolor\":\"#2a3f5f\"},\"type\":\"carpet\"}],\"table\":[{\"cells\":{\"fill\":{\"color\":\"#EBF0F8\"},\"line\":{\"color\":\"white\"}},\"header\":{\"fill\":{\"color\":\"#C8D4E3\"},\"line\":{\"color\":\"white\"}},\"type\":\"table\"}],\"barpolar\":[{\"marker\":{\"line\":{\"color\":\"white\",\"width\":0.5},\"pattern\":{\"fillmode\":\"overlay\",\"size\":10,\"solidity\":0.2}},\"type\":\"barpolar\"}],\"pie\":[{\"automargin\":true,\"type\":\"pie\"}]},\"layout\":{\"autotypenumbers\":\"strict\",\"colorway\":[\"#636efa\",\"#EF553B\",\"#00cc96\",\"#ab63fa\",\"#FFA15A\",\"#19d3f3\",\"#FF6692\",\"#B6E880\",\"#FF97FF\",\"#FECB52\"],\"font\":{\"color\":\"#2a3f5f\"},\"hovermode\":\"closest\",\"hoverlabel\":{\"align\":\"left\"},\"paper_bgcolor\":\"white\",\"plot_bgcolor\":\"white\",\"polar\":{\"bgcolor\":\"white\",\"angularaxis\":{\"gridcolor\":\"#EBF0F8\",\"linecolor\":\"#EBF0F8\",\"ticks\":\"\"},\"radialaxis\":{\"gridcolor\":\"#EBF0F8\",\"linecolor\":\"#EBF0F8\",\"ticks\":\"\"}},\"ternary\":{\"bgcolor\":\"white\",\"aaxis\":{\"gridcolor\":\"#DFE8F3\",\"linecolor\":\"#A2B1C6\",\"ticks\":\"\"},\"baxis\":{\"gridcolor\":\"#DFE8F3\",\"linecolor\":\"#A2B1C6\",\"ticks\":\"\"},\"caxis\":{\"gridcolor\":\"#DFE8F3\",\"linecolor\":\"#A2B1C6\",\"ticks\":\"\"}},\"coloraxis\":{\"colorbar\":{\"outlinewidth\":0,\"ticks\":\"\"}},\"colorscale\":{\"sequential\":[[0.0,\"#0d0887\"],[0.1111111111111111,\"#46039f\"],[0.2222222222222222,\"#7201a8\"],[0.3333333333333333,\"#9c179e\"],[0.4444444444444444,\"#bd3786\"],[0.5555555555555556,\"#d8576b\"],[0.6666666666666666,\"#ed7953\"],[0.7777777777777778,\"#fb9f3a\"],[0.8888888888888888,\"#fdca26\"],[1.0,\"#f0f921\"]],\"sequentialminus\":[[0.0,\"#0d0887\"],[0.1111111111111111,\"#46039f\"],[0.2222222222222222,\"#7201a8\"],[0.3333333333333333,\"#9c179e\"],[0.4444444444444444,\"#bd3786\"],[0.5555555555555556,\"#d8576b\"],[0.6666666666666666,\"#ed7953\"],[0.7777777777777778,\"#fb9f3a\"],[0.8888888888888888,\"#fdca26\"],[1.0,\"#f0f921\"]],\"diverging\":[[0,\"#8e0152\"],[0.1,\"#c51b7d\"],[0.2,\"#de77ae\"],[0.3,\"#f1b6da\"],[0.4,\"#fde0ef\"],[0.5,\"#f7f7f7\"],[0.6,\"#e6f5d0\"],[0.7,\"#b8e186\"],[0.8,\"#7fbc41\"],[0.9,\"#4d9221\"],[1,\"#276419\"]]},\"xaxis\":{\"gridcolor\":\"#EBF0F8\",\"linecolor\":\"#EBF0F8\",\"ticks\":\"\",\"title\":{\"standoff\":15},\"zerolinecolor\":\"#EBF0F8\",\"automargin\":true,\"zerolinewidth\":2},\"yaxis\":{\"gridcolor\":\"#EBF0F8\",\"linecolor\":\"#EBF0F8\",\"ticks\":\"\",\"title\":{\"standoff\":15},\"zerolinecolor\":\"#EBF0F8\",\"automargin\":true,\"zerolinewidth\":2},\"scene\":{\"xaxis\":{\"backgroundcolor\":\"white\",\"gridcolor\":\"#DFE8F3\",\"linecolor\":\"#EBF0F8\",\"showbackground\":true,\"ticks\":\"\",\"zerolinecolor\":\"#EBF0F8\",\"gridwidth\":2},\"yaxis\":{\"backgroundcolor\":\"white\",\"gridcolor\":\"#DFE8F3\",\"linecolor\":\"#EBF0F8\",\"showbackground\":true,\"ticks\":\"\",\"zerolinecolor\":\"#EBF0F8\",\"gridwidth\":2},\"zaxis\":{\"backgroundcolor\":\"white\",\"gridcolor\":\"#DFE8F3\",\"linecolor\":\"#EBF0F8\",\"showbackground\":true,\"ticks\":\"\",\"zerolinecolor\":\"#EBF0F8\",\"gridwidth\":2}},\"shapedefaults\":{\"line\":{\"color\":\"#2a3f5f\"}},\"annotationdefaults\":{\"arrowcolor\":\"#2a3f5f\",\"arrowhead\":0,\"arrowwidth\":1},\"geo\":{\"bgcolor\":\"white\",\"landcolor\":\"white\",\"subunitcolor\":\"#C8D4E3\",\"showland\":true,\"showlakes\":true,\"lakecolor\":\"white\"},\"title\":{\"x\":0.05},\"mapbox\":{\"style\":\"light\"}}},\"xaxis\":{\"anchor\":\"y\",\"domain\":[0.0,1.0],\"title\":{\"text\":\"Time\",\"font\":{\"size\":12}}},\"yaxis\":{\"anchor\":\"x\",\"domain\":[0.0,1.0],\"title\":{\"text\":\"Value\",\"font\":{\"size\":12}}},\"legend\":{\"tracegroupgap\":0},\"margin\":{\"t\":60},\"title\":{\"font\":{\"size\":25},\"text\":\"Red Noise Process\",\"x\":0.5,\"xanchor\":\"center\",\"yanchor\":\"top\"},\"autosize\":false,\"width\":900,\"height\":500},                        {\"responsive\": true}                    ).then(function(){\n",
              "                            \n",
              "var gd = document.getElementById('fa9209c2-7285-457c-9789-e04e6bfbd5dd');\n",
              "var x = new MutationObserver(function (mutations, observer) {{\n",
              "        var display = window.getComputedStyle(gd).display;\n",
              "        if (!display || display === 'none') {{\n",
              "            console.log([gd, 'removed!']);\n",
              "            Plotly.purge(gd);\n",
              "            observer.disconnect();\n",
              "        }}\n",
              "}});\n",
              "\n",
              "// Listen for the removal of the full notebook cells\n",
              "var notebookContainer = gd.closest('#notebook-container');\n",
              "if (notebookContainer) {{\n",
              "    x.observe(notebookContainer, {childList: true});\n",
              "}}\n",
              "\n",
              "// Listen for the clearing of the current output cell\n",
              "var outputEl = gd.closest('.output');\n",
              "if (outputEl) {{\n",
              "    x.observe(outputEl, {childList: true});\n",
              "}}\n",
              "\n",
              "                        })                };                            </script>        </div>\n",
              "</body>\n",
              "</html>"
            ]
          },
          "metadata": {}
        }
      ]
    },
    {
      "cell_type": "markdown",
      "source": [
        "## Cyclical or Seasonal Signals"
      ],
      "metadata": {
        "id": "OBfjQ09_x-8l"
      }
    },
    {
      "cell_type": "code",
      "source": [
        "# Sinusodial Signal with Amplitude=1.5 & Frequency=0.25\n",
        "signal_1 = ts.signals.Sinusoidal(amplitude=1.5, frequency=0.25)\n",
        "# Sinusodial Signal with Amplitude=1 & Frequency=0.5\n",
        "signal_2 = ts.signals.Sinusoidal(amplitude=1, frequency=0.5)\n",
        "# Generating the time series\n",
        "samples_1 , regular_time_samples, signals_1, error_1 = generate_timeseries(signal=signal_1)\n",
        "samples_2 , regular_time_samples, signals_2, error_2 = generate_timeseries(signal=signal_2)\n",
        "\n",
        "plot_time_series(regular_time_samples, [samples_1, samples_2], \"Sinosoidal Waves\", legends=[\"Amplitude = 1.5 | Frequency = 0.25\", \"Amplitude = 1 | Frequency = 0.5\"])"
      ],
      "metadata": {
        "colab": {
          "base_uri": "https://localhost:8080/",
          "height": 517
        },
        "id": "KSuTyAZzuv-d",
        "outputId": "57294418-ab75-47c1-979e-c8c250f58d9b"
      },
      "execution_count": 53,
      "outputs": [
        {
          "output_type": "display_data",
          "data": {
            "text/html": [
              "<html>\n",
              "<head><meta charset=\"utf-8\" /></head>\n",
              "<body>\n",
              "    <div>            <script src=\"https://cdnjs.cloudflare.com/ajax/libs/mathjax/2.7.5/MathJax.js?config=TeX-AMS-MML_SVG\"></script><script type=\"text/javascript\">if (window.MathJax && window.MathJax.Hub && window.MathJax.Hub.Config) {window.MathJax.Hub.Config({SVG: {font: \"STIX-Web\"}});}</script>                <script type=\"text/javascript\">window.PlotlyConfig = {MathJaxConfig: 'local'};</script>\n",
              "        <script charset=\"utf-8\" src=\"https://cdn.plot.ly/plotly-2.24.1.min.js\"></script>                <div id=\"d64a801b-419c-4210-9847-bcef9d7201f0\" class=\"plotly-graph-div\" style=\"height:500px; width:900px;\"></div>            <script type=\"text/javascript\">                                    window.PLOTLYENV=window.PLOTLYENV || {};                                    if (document.getElementById(\"d64a801b-419c-4210-9847-bcef9d7201f0\")) {                    Plotly.newPlot(                        \"d64a801b-419c-4210-9847-bcef9d7201f0\",                        [{\"hovertemplate\":\"ts=Amplitude = 1.5 | Frequency = 0.25\\u003cbr\\u003eTime=%{x}\\u003cbr\\u003eValue=%{y}\\u003cextra\\u003e\\u003c\\u002fextra\\u003e\",\"legendgroup\":\"Amplitude = 1.5 | Frequency = 0.25\",\"line\":{\"color\":\"#636efa\",\"dash\":\"solid\"},\"marker\":{\"symbol\":\"circle\"},\"mode\":\"lines\",\"name\":\"Amplitude = 1.5 | Frequency = 0.25\",\"orientation\":\"v\",\"showlegend\":true,\"x\":[0.0,0.20202020202020202,0.40404040404040403,0.6060606060606061,0.8080808080808081,1.0101010101010102,1.2121212121212122,1.4141414141414141,1.6161616161616161,1.8181818181818181,2.0202020202020203,2.2222222222222223,2.4242424242424243,2.6262626262626263,2.8282828282828283,3.0303030303030303,3.2323232323232323,3.4343434343434343,3.6363636363636362,3.8383838383838382,4.040404040404041,4.242424242424242,4.444444444444445,4.646464646464646,4.848484848484849,5.05050505050505,5.252525252525253,5.454545454545454,5.656565656565657,5.858585858585858,6.0606060606060606,6.262626262626262,6.4646464646464645,6.666666666666667,6.8686868686868685,7.070707070707071,7.2727272727272725,7.474747474747475,7.6767676767676765,7.878787878787879,8.080808080808081,8.282828282828282,8.484848484848484,8.686868686868687,8.88888888888889,9.09090909090909,9.292929292929292,9.494949494949495,9.696969696969697,9.8989898989899,10.1010101010101,10.303030303030303,10.505050505050505,10.707070707070708,10.909090909090908,11.11111111111111,11.313131313131313,11.515151515151516,11.717171717171716,11.919191919191919,12.121212121212121,12.323232323232324,12.525252525252524,12.727272727272727,12.929292929292929,13.131313131313131,13.333333333333334,13.535353535353535,13.737373737373737,13.93939393939394,14.141414141414142,14.343434343434343,14.545454545454545,14.747474747474747,14.94949494949495,15.15151515151515,15.353535353535353,15.555555555555555,15.757575757575758,15.959595959595958,16.161616161616163,16.363636363636363,16.565656565656564,16.767676767676768,16.96969696969697,17.171717171717173,17.373737373737374,17.575757575757574,17.77777777777778,17.97979797979798,18.18181818181818,18.383838383838384,18.585858585858585,18.78787878787879,18.98989898989899,19.19191919191919,19.393939393939394,19.595959595959595,19.7979797979798,20.0],\"xaxis\":\"x\",\"y\":[0.0,0.4680501685477307,0.8893618935819606,1.2218639280755035,1.4323533621661109,1.4998111915108125,1.4175012280720027,1.1936427607962485,0.8505897957941563,0.4225988352621451,-0.04759190024710179,-0.513030214988503,-0.9272384793309079,-1.248854781952157,-1.445763237839913,-1.4983010087745119,-1.4012217903976603,-1.1642196964376357,-0.8109612261833974,-0.3767219807716191,0.09513587948484739,0.5574936834904902,0.9641814145298087,1.2745881449242713,1.4577173524853126,1.4952821639279135,1.3835314411568724,1.133624361531389,0.7705160873601108,0.33046579917981156,-0.14258406495627424,-0.6013958031099191,-1.0001535007744369,-1.299038105676658,-1.4682036693221678,-1.4907576966918814,-1.3644479930317785,-1.1018875629863008,-0.7292951041507035,-0.283876866540615,0.18988868036062512,0.6446923681337545,1.0351185172231663,1.3221800451713723,1.477211629518312,1.4847321628213994,1.3439906614370045,1.0690412570682948,0.6873397825911152,0.23700209396002359,-0.23700209396002175,-0.6873397825911136,-1.0690412570682934,-1.3439906614370036,-1.4847321628213983,-1.4772116295183129,-1.3221800451713746,-1.0351185172231696,-0.6446923681337585,-0.1898886803606243,0.2838768665406158,0.7292951041507042,1.1018875629862979,1.3644479930317766,1.490757696691881,1.468203669322168,1.2990381056766578,1.0001535007744402,0.6013958031099232,0.14258406495627607,-0.3304657991798098,-0.7705160873601047,-1.1336243615313844,-1.3835314411568707,-1.4952821639279132,-1.457717352485313,-1.2745881449242722,-0.9641814145298092,-0.5574936834904907,-0.09513587948485053,0.37672198077162117,0.8109612261833947,1.1642196964376312,1.40122179039766,1.4983010087745119,1.4457632378399128,1.2488547819521587,0.9272384793309136,0.5130302149885041,0.04759190024710695,-0.42259883526214015,-0.8505897957941531,-1.1936427607962465,-1.4175012280720038,-1.4998111915108125,-1.4323533621661124,-1.221863928075503,-0.8893618935819636,-0.4680501685477282,-1.83697019872103e-15],\"yaxis\":\"y\",\"type\":\"scatter\"},{\"hovertemplate\":\"ts=Amplitude = 1 | Frequency = 0.5\\u003cbr\\u003eTime=%{x}\\u003cbr\\u003eValue=%{y}\\u003cextra\\u003e\\u003c\\u002fextra\\u003e\",\"legendgroup\":\"Amplitude = 1 | Frequency = 0.5\",\"line\":{\"color\":\"#636efa\",\"dash\":\"dot\"},\"marker\":{\"symbol\":\"circle\"},\"mode\":\"lines\",\"name\":\"Amplitude = 1 | Frequency = 0.5\",\"orientation\":\"v\",\"showlegend\":true,\"x\":[0.0,0.20202020202020202,0.40404040404040403,0.6060606060606061,0.8080808080808081,1.0101010101010102,1.2121212121212122,1.4141414141414141,1.6161616161616161,1.8181818181818181,2.0202020202020203,2.2222222222222223,2.4242424242424243,2.6262626262626263,2.8282828282828283,3.0303030303030303,3.2323232323232323,3.4343434343434343,3.6363636363636362,3.8383838383838382,4.040404040404041,4.242424242424242,4.444444444444445,4.646464646464646,4.848484848484849,5.05050505050505,5.252525252525253,5.454545454545454,5.656565656565657,5.858585858585858,6.0606060606060606,6.262626262626262,6.4646464646464645,6.666666666666667,6.8686868686868685,7.070707070707071,7.2727272727272725,7.474747474747475,7.6767676767676765,7.878787878787879,8.080808080808081,8.282828282828282,8.484848484848484,8.686868686868687,8.88888888888889,9.09090909090909,9.292929292929292,9.494949494949495,9.696969696969697,9.8989898989899,10.1010101010101,10.303030303030303,10.505050505050505,10.707070707070708,10.909090909090908,11.11111111111111,11.313131313131313,11.515151515151516,11.717171717171716,11.919191919191919,12.121212121212121,12.323232323232324,12.525252525252524,12.727272727272727,12.929292929292929,13.131313131313131,13.333333333333334,13.535353535353535,13.737373737373737,13.93939393939394,14.141414141414142,14.343434343434343,14.545454545454545,14.747474747474747,14.94949494949495,15.15151515151515,15.353535353535353,15.555555555555555,15.757575757575758,15.959595959595958,16.161616161616163,16.363636363636363,16.565656565656564,16.767676767676768,16.96969696969697,17.171717171717173,17.373737373737374,17.575757575757574,17.77777777777778,17.97979797979798,18.18181818181818,18.383838383838384,18.585858585858585,18.78787878787879,18.98989898989899,19.19191919191919,19.393939393939394,19.595959595959595,19.7979797979798,20.0],\"xaxis\":\"x\",\"y\":[0.0,0.5929079290546404,0.9549022414440739,0.9450008187146685,0.5670598638627709,-0.03172793349806786,-0.6181589862206053,-0.9638421585599419,-0.9341478602651068,-0.5406408174555982,0.06342391965656492,0.6427876096865391,0.9718115683235418,0.9223542941045816,0.5136773915734072,-0.09505604330418282,-0.6667690005162913,-0.9788024462147785,-0.909631995354519,-0.48619673610046904,0.12659245357375007,0.6900790114821109,0.984807753012208,0.8959937742913363,0.45822652172741013,-0.15800139597334784,-0.7126941713788623,-0.9898214418809322,-0.881453363447583,-0.42979491208917237,0.18925124436041052,0.7345917086575319,0.993838464461254,0.8660254037844385,0.4009305354066155,-0.22031053278653986,-0.7557495743542563,-0.9968547759519422,-0.8497254299495147,-0.37166245566032713,0.2511479871810808,0.7761464642917542,0.9988673391830079,0.8325698546347724,0.3420201433256694,-0.2817325568414268,-0.795761840530831,-0.9998741276738751,-0.8145759520503354,-0.31203344569848546,0.3120334456984831,0.814575952050334,0.9998741276738751,0.7957618405308324,0.28173255684143594,-0.3420201433256638,-0.8325698546347691,-0.9988673391830081,-0.7761464642917579,-0.2511479871810797,0.37166245566032813,0.8497254299495154,0.9968547759519427,0.7557495743542602,0.22031053278654225,-0.4009305354066133,-0.866025403784439,-0.9938384644612547,-0.734591708657536,-0.18925124436041293,0.4297949120891702,0.8814533634475785,0.9898214418809337,0.7126941713788665,0.15800139597335378,-0.45822652172740796,-0.8959937742913352,-0.9848077530122081,-0.6900790114821114,-0.12659245357375426,0.48619673610047154,0.9096319953545172,0.9788024462147805,0.6667690005162918,0.0950560433041888,-0.5136773915734082,-0.9223542941045799,-0.971811568323544,-0.6427876096865404,-0.06342391965657179,0.5406408174555924,0.934147860265105,0.963842158559943,0.6181589862206016,0.031727933498068975,-0.5670598638627647,-0.9450008187146688,-0.9549022414440753,-0.5929079290546376,-2.4492935982947065e-15],\"yaxis\":\"y\",\"type\":\"scatter\"}],                        {\"template\":{\"data\":{\"histogram2dcontour\":[{\"type\":\"histogram2dcontour\",\"colorbar\":{\"outlinewidth\":0,\"ticks\":\"\"},\"colorscale\":[[0.0,\"#0d0887\"],[0.1111111111111111,\"#46039f\"],[0.2222222222222222,\"#7201a8\"],[0.3333333333333333,\"#9c179e\"],[0.4444444444444444,\"#bd3786\"],[0.5555555555555556,\"#d8576b\"],[0.6666666666666666,\"#ed7953\"],[0.7777777777777778,\"#fb9f3a\"],[0.8888888888888888,\"#fdca26\"],[1.0,\"#f0f921\"]]}],\"choropleth\":[{\"type\":\"choropleth\",\"colorbar\":{\"outlinewidth\":0,\"ticks\":\"\"}}],\"histogram2d\":[{\"type\":\"histogram2d\",\"colorbar\":{\"outlinewidth\":0,\"ticks\":\"\"},\"colorscale\":[[0.0,\"#0d0887\"],[0.1111111111111111,\"#46039f\"],[0.2222222222222222,\"#7201a8\"],[0.3333333333333333,\"#9c179e\"],[0.4444444444444444,\"#bd3786\"],[0.5555555555555556,\"#d8576b\"],[0.6666666666666666,\"#ed7953\"],[0.7777777777777778,\"#fb9f3a\"],[0.8888888888888888,\"#fdca26\"],[1.0,\"#f0f921\"]]}],\"heatmap\":[{\"type\":\"heatmap\",\"colorbar\":{\"outlinewidth\":0,\"ticks\":\"\"},\"colorscale\":[[0.0,\"#0d0887\"],[0.1111111111111111,\"#46039f\"],[0.2222222222222222,\"#7201a8\"],[0.3333333333333333,\"#9c179e\"],[0.4444444444444444,\"#bd3786\"],[0.5555555555555556,\"#d8576b\"],[0.6666666666666666,\"#ed7953\"],[0.7777777777777778,\"#fb9f3a\"],[0.8888888888888888,\"#fdca26\"],[1.0,\"#f0f921\"]]}],\"heatmapgl\":[{\"type\":\"heatmapgl\",\"colorbar\":{\"outlinewidth\":0,\"ticks\":\"\"},\"colorscale\":[[0.0,\"#0d0887\"],[0.1111111111111111,\"#46039f\"],[0.2222222222222222,\"#7201a8\"],[0.3333333333333333,\"#9c179e\"],[0.4444444444444444,\"#bd3786\"],[0.5555555555555556,\"#d8576b\"],[0.6666666666666666,\"#ed7953\"],[0.7777777777777778,\"#fb9f3a\"],[0.8888888888888888,\"#fdca26\"],[1.0,\"#f0f921\"]]}],\"contourcarpet\":[{\"type\":\"contourcarpet\",\"colorbar\":{\"outlinewidth\":0,\"ticks\":\"\"}}],\"contour\":[{\"type\":\"contour\",\"colorbar\":{\"outlinewidth\":0,\"ticks\":\"\"},\"colorscale\":[[0.0,\"#0d0887\"],[0.1111111111111111,\"#46039f\"],[0.2222222222222222,\"#7201a8\"],[0.3333333333333333,\"#9c179e\"],[0.4444444444444444,\"#bd3786\"],[0.5555555555555556,\"#d8576b\"],[0.6666666666666666,\"#ed7953\"],[0.7777777777777778,\"#fb9f3a\"],[0.8888888888888888,\"#fdca26\"],[1.0,\"#f0f921\"]]}],\"surface\":[{\"type\":\"surface\",\"colorbar\":{\"outlinewidth\":0,\"ticks\":\"\"},\"colorscale\":[[0.0,\"#0d0887\"],[0.1111111111111111,\"#46039f\"],[0.2222222222222222,\"#7201a8\"],[0.3333333333333333,\"#9c179e\"],[0.4444444444444444,\"#bd3786\"],[0.5555555555555556,\"#d8576b\"],[0.6666666666666666,\"#ed7953\"],[0.7777777777777778,\"#fb9f3a\"],[0.8888888888888888,\"#fdca26\"],[1.0,\"#f0f921\"]]}],\"mesh3d\":[{\"type\":\"mesh3d\",\"colorbar\":{\"outlinewidth\":0,\"ticks\":\"\"}}],\"scatter\":[{\"fillpattern\":{\"fillmode\":\"overlay\",\"size\":10,\"solidity\":0.2},\"type\":\"scatter\"}],\"parcoords\":[{\"type\":\"parcoords\",\"line\":{\"colorbar\":{\"outlinewidth\":0,\"ticks\":\"\"}}}],\"scatterpolargl\":[{\"type\":\"scatterpolargl\",\"marker\":{\"colorbar\":{\"outlinewidth\":0,\"ticks\":\"\"}}}],\"bar\":[{\"error_x\":{\"color\":\"#2a3f5f\"},\"error_y\":{\"color\":\"#2a3f5f\"},\"marker\":{\"line\":{\"color\":\"white\",\"width\":0.5},\"pattern\":{\"fillmode\":\"overlay\",\"size\":10,\"solidity\":0.2}},\"type\":\"bar\"}],\"scattergeo\":[{\"type\":\"scattergeo\",\"marker\":{\"colorbar\":{\"outlinewidth\":0,\"ticks\":\"\"}}}],\"scatterpolar\":[{\"type\":\"scatterpolar\",\"marker\":{\"colorbar\":{\"outlinewidth\":0,\"ticks\":\"\"}}}],\"histogram\":[{\"marker\":{\"pattern\":{\"fillmode\":\"overlay\",\"size\":10,\"solidity\":0.2}},\"type\":\"histogram\"}],\"scattergl\":[{\"type\":\"scattergl\",\"marker\":{\"colorbar\":{\"outlinewidth\":0,\"ticks\":\"\"}}}],\"scatter3d\":[{\"type\":\"scatter3d\",\"line\":{\"colorbar\":{\"outlinewidth\":0,\"ticks\":\"\"}},\"marker\":{\"colorbar\":{\"outlinewidth\":0,\"ticks\":\"\"}}}],\"scattermapbox\":[{\"type\":\"scattermapbox\",\"marker\":{\"colorbar\":{\"outlinewidth\":0,\"ticks\":\"\"}}}],\"scatterternary\":[{\"type\":\"scatterternary\",\"marker\":{\"colorbar\":{\"outlinewidth\":0,\"ticks\":\"\"}}}],\"scattercarpet\":[{\"type\":\"scattercarpet\",\"marker\":{\"colorbar\":{\"outlinewidth\":0,\"ticks\":\"\"}}}],\"carpet\":[{\"aaxis\":{\"endlinecolor\":\"#2a3f5f\",\"gridcolor\":\"#C8D4E3\",\"linecolor\":\"#C8D4E3\",\"minorgridcolor\":\"#C8D4E3\",\"startlinecolor\":\"#2a3f5f\"},\"baxis\":{\"endlinecolor\":\"#2a3f5f\",\"gridcolor\":\"#C8D4E3\",\"linecolor\":\"#C8D4E3\",\"minorgridcolor\":\"#C8D4E3\",\"startlinecolor\":\"#2a3f5f\"},\"type\":\"carpet\"}],\"table\":[{\"cells\":{\"fill\":{\"color\":\"#EBF0F8\"},\"line\":{\"color\":\"white\"}},\"header\":{\"fill\":{\"color\":\"#C8D4E3\"},\"line\":{\"color\":\"white\"}},\"type\":\"table\"}],\"barpolar\":[{\"marker\":{\"line\":{\"color\":\"white\",\"width\":0.5},\"pattern\":{\"fillmode\":\"overlay\",\"size\":10,\"solidity\":0.2}},\"type\":\"barpolar\"}],\"pie\":[{\"automargin\":true,\"type\":\"pie\"}]},\"layout\":{\"autotypenumbers\":\"strict\",\"colorway\":[\"#636efa\",\"#EF553B\",\"#00cc96\",\"#ab63fa\",\"#FFA15A\",\"#19d3f3\",\"#FF6692\",\"#B6E880\",\"#FF97FF\",\"#FECB52\"],\"font\":{\"color\":\"#2a3f5f\"},\"hovermode\":\"closest\",\"hoverlabel\":{\"align\":\"left\"},\"paper_bgcolor\":\"white\",\"plot_bgcolor\":\"white\",\"polar\":{\"bgcolor\":\"white\",\"angularaxis\":{\"gridcolor\":\"#EBF0F8\",\"linecolor\":\"#EBF0F8\",\"ticks\":\"\"},\"radialaxis\":{\"gridcolor\":\"#EBF0F8\",\"linecolor\":\"#EBF0F8\",\"ticks\":\"\"}},\"ternary\":{\"bgcolor\":\"white\",\"aaxis\":{\"gridcolor\":\"#DFE8F3\",\"linecolor\":\"#A2B1C6\",\"ticks\":\"\"},\"baxis\":{\"gridcolor\":\"#DFE8F3\",\"linecolor\":\"#A2B1C6\",\"ticks\":\"\"},\"caxis\":{\"gridcolor\":\"#DFE8F3\",\"linecolor\":\"#A2B1C6\",\"ticks\":\"\"}},\"coloraxis\":{\"colorbar\":{\"outlinewidth\":0,\"ticks\":\"\"}},\"colorscale\":{\"sequential\":[[0.0,\"#0d0887\"],[0.1111111111111111,\"#46039f\"],[0.2222222222222222,\"#7201a8\"],[0.3333333333333333,\"#9c179e\"],[0.4444444444444444,\"#bd3786\"],[0.5555555555555556,\"#d8576b\"],[0.6666666666666666,\"#ed7953\"],[0.7777777777777778,\"#fb9f3a\"],[0.8888888888888888,\"#fdca26\"],[1.0,\"#f0f921\"]],\"sequentialminus\":[[0.0,\"#0d0887\"],[0.1111111111111111,\"#46039f\"],[0.2222222222222222,\"#7201a8\"],[0.3333333333333333,\"#9c179e\"],[0.4444444444444444,\"#bd3786\"],[0.5555555555555556,\"#d8576b\"],[0.6666666666666666,\"#ed7953\"],[0.7777777777777778,\"#fb9f3a\"],[0.8888888888888888,\"#fdca26\"],[1.0,\"#f0f921\"]],\"diverging\":[[0,\"#8e0152\"],[0.1,\"#c51b7d\"],[0.2,\"#de77ae\"],[0.3,\"#f1b6da\"],[0.4,\"#fde0ef\"],[0.5,\"#f7f7f7\"],[0.6,\"#e6f5d0\"],[0.7,\"#b8e186\"],[0.8,\"#7fbc41\"],[0.9,\"#4d9221\"],[1,\"#276419\"]]},\"xaxis\":{\"gridcolor\":\"#EBF0F8\",\"linecolor\":\"#EBF0F8\",\"ticks\":\"\",\"title\":{\"standoff\":15},\"zerolinecolor\":\"#EBF0F8\",\"automargin\":true,\"zerolinewidth\":2},\"yaxis\":{\"gridcolor\":\"#EBF0F8\",\"linecolor\":\"#EBF0F8\",\"ticks\":\"\",\"title\":{\"standoff\":15},\"zerolinecolor\":\"#EBF0F8\",\"automargin\":true,\"zerolinewidth\":2},\"scene\":{\"xaxis\":{\"backgroundcolor\":\"white\",\"gridcolor\":\"#DFE8F3\",\"linecolor\":\"#EBF0F8\",\"showbackground\":true,\"ticks\":\"\",\"zerolinecolor\":\"#EBF0F8\",\"gridwidth\":2},\"yaxis\":{\"backgroundcolor\":\"white\",\"gridcolor\":\"#DFE8F3\",\"linecolor\":\"#EBF0F8\",\"showbackground\":true,\"ticks\":\"\",\"zerolinecolor\":\"#EBF0F8\",\"gridwidth\":2},\"zaxis\":{\"backgroundcolor\":\"white\",\"gridcolor\":\"#DFE8F3\",\"linecolor\":\"#EBF0F8\",\"showbackground\":true,\"ticks\":\"\",\"zerolinecolor\":\"#EBF0F8\",\"gridwidth\":2}},\"shapedefaults\":{\"line\":{\"color\":\"#2a3f5f\"}},\"annotationdefaults\":{\"arrowcolor\":\"#2a3f5f\",\"arrowhead\":0,\"arrowwidth\":1},\"geo\":{\"bgcolor\":\"white\",\"landcolor\":\"white\",\"subunitcolor\":\"#C8D4E3\",\"showland\":true,\"showlakes\":true,\"lakecolor\":\"white\"},\"title\":{\"x\":0.05},\"mapbox\":{\"style\":\"light\"}}},\"xaxis\":{\"anchor\":\"y\",\"domain\":[0.0,1.0],\"title\":{\"text\":\"Time\",\"font\":{\"size\":12}}},\"yaxis\":{\"anchor\":\"x\",\"domain\":[0.0,1.0],\"title\":{\"text\":\"Value\",\"font\":{\"size\":12}}},\"legend\":{\"title\":{\"text\":\"ts\"},\"tracegroupgap\":0},\"margin\":{\"t\":60},\"title\":{\"font\":{\"size\":25},\"text\":\"Sinosoidal Waves\",\"x\":0.5,\"xanchor\":\"center\",\"yanchor\":\"top\"},\"autosize\":false,\"width\":900,\"height\":500},                        {\"responsive\": true}                    ).then(function(){\n",
              "                            \n",
              "var gd = document.getElementById('d64a801b-419c-4210-9847-bcef9d7201f0');\n",
              "var x = new MutationObserver(function (mutations, observer) {{\n",
              "        var display = window.getComputedStyle(gd).display;\n",
              "        if (!display || display === 'none') {{\n",
              "            console.log([gd, 'removed!']);\n",
              "            Plotly.purge(gd);\n",
              "            observer.disconnect();\n",
              "        }}\n",
              "}});\n",
              "\n",
              "// Listen for the removal of the full notebook cells\n",
              "var notebookContainer = gd.closest('#notebook-container');\n",
              "if (notebookContainer) {{\n",
              "    x.observe(notebookContainer, {childList: true});\n",
              "}}\n",
              "\n",
              "// Listen for the clearing of the current output cell\n",
              "var outputEl = gd.closest('.output');\n",
              "if (outputEl) {{\n",
              "    x.observe(outputEl, {childList: true});\n",
              "}}\n",
              "\n",
              "                        })                };                            </script>        </div>\n",
              "</body>\n",
              "</html>"
            ]
          },
          "metadata": {}
        }
      ]
    },
    {
      "cell_type": "code",
      "source": [
        "ts.TimeSampler(stop_time=20)"
      ],
      "metadata": {
        "colab": {
          "base_uri": "https://localhost:8080/"
        },
        "id": "U-ldz_-90x05",
        "outputId": "55237859-4e42-413e-97c9-c0f631a1f017"
      },
      "execution_count": 22,
      "outputs": [
        {
          "output_type": "execute_result",
          "data": {
            "text/plain": [
              "<TimeSynth.timesynth.timesampler.timesampler.TimeSampler at 0x7dcec5b8e920>"
            ]
          },
          "metadata": {},
          "execution_count": 22
        }
      ]
    },
    {
      "cell_type": "code",
      "source": [
        "time_sampler = ts.TimeSampler(stop_time=20)"
      ],
      "metadata": {
        "id": "-KHqfVns0ybx"
      },
      "execution_count": 26,
      "outputs": []
    },
    {
      "cell_type": "code",
      "source": [
        "regular_time_samples = time_sampler.sample_regular_time(num_points=100)"
      ],
      "metadata": {
        "id": "wU03DQKh1Vnw"
      },
      "execution_count": 27,
      "outputs": []
    },
    {
      "cell_type": "code",
      "source": [
        "regular_time_samples"
      ],
      "metadata": {
        "colab": {
          "base_uri": "https://localhost:8080/"
        },
        "id": "5BEhlE8n1aZg",
        "outputId": "f6506b64-07ee-44ce-c5d6-cc3a74d855fa"
      },
      "execution_count": 28,
      "outputs": [
        {
          "output_type": "execute_result",
          "data": {
            "text/plain": [
              "array([ 0.        ,  0.2020202 ,  0.4040404 ,  0.60606061,  0.80808081,\n",
              "        1.01010101,  1.21212121,  1.41414141,  1.61616162,  1.81818182,\n",
              "        2.02020202,  2.22222222,  2.42424242,  2.62626263,  2.82828283,\n",
              "        3.03030303,  3.23232323,  3.43434343,  3.63636364,  3.83838384,\n",
              "        4.04040404,  4.24242424,  4.44444444,  4.64646465,  4.84848485,\n",
              "        5.05050505,  5.25252525,  5.45454545,  5.65656566,  5.85858586,\n",
              "        6.06060606,  6.26262626,  6.46464646,  6.66666667,  6.86868687,\n",
              "        7.07070707,  7.27272727,  7.47474747,  7.67676768,  7.87878788,\n",
              "        8.08080808,  8.28282828,  8.48484848,  8.68686869,  8.88888889,\n",
              "        9.09090909,  9.29292929,  9.49494949,  9.6969697 ,  9.8989899 ,\n",
              "       10.1010101 , 10.3030303 , 10.50505051, 10.70707071, 10.90909091,\n",
              "       11.11111111, 11.31313131, 11.51515152, 11.71717172, 11.91919192,\n",
              "       12.12121212, 12.32323232, 12.52525253, 12.72727273, 12.92929293,\n",
              "       13.13131313, 13.33333333, 13.53535354, 13.73737374, 13.93939394,\n",
              "       14.14141414, 14.34343434, 14.54545455, 14.74747475, 14.94949495,\n",
              "       15.15151515, 15.35353535, 15.55555556, 15.75757576, 15.95959596,\n",
              "       16.16161616, 16.36363636, 16.56565657, 16.76767677, 16.96969697,\n",
              "       17.17171717, 17.37373737, 17.57575758, 17.77777778, 17.97979798,\n",
              "       18.18181818, 18.38383838, 18.58585859, 18.78787879, 18.98989899,\n",
              "       19.19191919, 19.39393939, 19.5959596 , 19.7979798 , 20.        ])"
            ]
          },
          "metadata": {},
          "execution_count": 28
        }
      ]
    },
    {
      "cell_type": "code",
      "source": [
        "len(regular_time_samples)"
      ],
      "metadata": {
        "colab": {
          "base_uri": "https://localhost:8080/"
        },
        "id": "CnUarD771gMQ",
        "outputId": "db69a5a7-308c-4751-c5bf-1eb44a86425d"
      },
      "execution_count": 29,
      "outputs": [
        {
          "output_type": "execute_result",
          "data": {
            "text/plain": [
              "100"
            ]
          },
          "metadata": {},
          "execution_count": 29
        }
      ]
    },
    {
      "cell_type": "code",
      "source": [
        "signal_1 = ts.signals.Sinusoidal(amplitude=1.5, frequency=0.25)\n",
        "print(signal_1)"
      ],
      "metadata": {
        "colab": {
          "base_uri": "https://localhost:8080/"
        },
        "id": "meLeigpa2IUo",
        "outputId": "62f0eebd-d056-4bd6-9464-2ca612d73c78"
      },
      "execution_count": 67,
      "outputs": [
        {
          "output_type": "stream",
          "name": "stdout",
          "text": [
            "<TimeSynth.timesynth.signals.sinusoidal.Sinusoidal object at 0x7dcec5a0ed70>\n"
          ]
        }
      ]
    },
    {
      "cell_type": "code",
      "source": [
        "timeseries = ts.TimeSeries(signal_generator=signal_1)"
      ],
      "metadata": {
        "id": "QAsB8t_q1tbC"
      },
      "execution_count": 46,
      "outputs": []
    },
    {
      "cell_type": "code",
      "source": [
        "timeseries"
      ],
      "metadata": {
        "colab": {
          "base_uri": "https://localhost:8080/"
        },
        "id": "BXlkCjfq2h6f",
        "outputId": "fc35abcc-50b3-4ac4-8db0-5caddc5fb347"
      },
      "execution_count": 47,
      "outputs": [
        {
          "output_type": "execute_result",
          "data": {
            "text/plain": [
              "<TimeSynth.timesynth.timeseries.TimeSeries at 0x7dcec59d5de0>"
            ]
          },
          "metadata": {},
          "execution_count": 47
        }
      ]
    },
    {
      "cell_type": "code",
      "source": [
        "samples, signals, errors = timeseries.sample(regular_time_samples)"
      ],
      "metadata": {
        "id": "9W2FKiB72jYA"
      },
      "execution_count": 48,
      "outputs": []
    },
    {
      "cell_type": "code",
      "source": [
        "samples"
      ],
      "metadata": {
        "colab": {
          "base_uri": "https://localhost:8080/"
        },
        "id": "HAFXJUKi24iu",
        "outputId": "930f0f7b-cb7c-49fa-af6a-7e6329d13031"
      },
      "execution_count": 49,
      "outputs": [
        {
          "output_type": "execute_result",
          "data": {
            "text/plain": [
              "array([ 0.00000000e+00,  4.68050169e-01,  8.89361894e-01,  1.22186393e+00,\n",
              "        1.43235336e+00,  1.49981119e+00,  1.41750123e+00,  1.19364276e+00,\n",
              "        8.50589796e-01,  4.22598835e-01, -4.75919002e-02, -5.13030215e-01,\n",
              "       -9.27238479e-01, -1.24885478e+00, -1.44576324e+00, -1.49830101e+00,\n",
              "       -1.40122179e+00, -1.16421970e+00, -8.10961226e-01, -3.76721981e-01,\n",
              "        9.51358795e-02,  5.57493683e-01,  9.64181415e-01,  1.27458814e+00,\n",
              "        1.45771735e+00,  1.49528216e+00,  1.38353144e+00,  1.13362436e+00,\n",
              "        7.70516087e-01,  3.30465799e-01, -1.42584065e-01, -6.01395803e-01,\n",
              "       -1.00015350e+00, -1.29903811e+00, -1.46820367e+00, -1.49075770e+00,\n",
              "       -1.36444799e+00, -1.10188756e+00, -7.29295104e-01, -2.83876867e-01,\n",
              "        1.89888680e-01,  6.44692368e-01,  1.03511852e+00,  1.32218005e+00,\n",
              "        1.47721163e+00,  1.48473216e+00,  1.34399066e+00,  1.06904126e+00,\n",
              "        6.87339783e-01,  2.37002094e-01, -2.37002094e-01, -6.87339783e-01,\n",
              "       -1.06904126e+00, -1.34399066e+00, -1.48473216e+00, -1.47721163e+00,\n",
              "       -1.32218005e+00, -1.03511852e+00, -6.44692368e-01, -1.89888680e-01,\n",
              "        2.83876867e-01,  7.29295104e-01,  1.10188756e+00,  1.36444799e+00,\n",
              "        1.49075770e+00,  1.46820367e+00,  1.29903811e+00,  1.00015350e+00,\n",
              "        6.01395803e-01,  1.42584065e-01, -3.30465799e-01, -7.70516087e-01,\n",
              "       -1.13362436e+00, -1.38353144e+00, -1.49528216e+00, -1.45771735e+00,\n",
              "       -1.27458814e+00, -9.64181415e-01, -5.57493683e-01, -9.51358795e-02,\n",
              "        3.76721981e-01,  8.10961226e-01,  1.16421970e+00,  1.40122179e+00,\n",
              "        1.49830101e+00,  1.44576324e+00,  1.24885478e+00,  9.27238479e-01,\n",
              "        5.13030215e-01,  4.75919002e-02, -4.22598835e-01, -8.50589796e-01,\n",
              "       -1.19364276e+00, -1.41750123e+00, -1.49981119e+00, -1.43235336e+00,\n",
              "       -1.22186393e+00, -8.89361894e-01, -4.68050169e-01, -1.83697020e-15])"
            ]
          },
          "metadata": {},
          "execution_count": 49
        }
      ]
    },
    {
      "cell_type": "code",
      "source": [
        "signals"
      ],
      "metadata": {
        "colab": {
          "base_uri": "https://localhost:8080/"
        },
        "id": "I4soRTg225l-",
        "outputId": "9e305c48-75e9-4642-95e3-2672439fae70"
      },
      "execution_count": 50,
      "outputs": [
        {
          "output_type": "execute_result",
          "data": {
            "text/plain": [
              "array([ 0.00000000e+00,  4.68050169e-01,  8.89361894e-01,  1.22186393e+00,\n",
              "        1.43235336e+00,  1.49981119e+00,  1.41750123e+00,  1.19364276e+00,\n",
              "        8.50589796e-01,  4.22598835e-01, -4.75919002e-02, -5.13030215e-01,\n",
              "       -9.27238479e-01, -1.24885478e+00, -1.44576324e+00, -1.49830101e+00,\n",
              "       -1.40122179e+00, -1.16421970e+00, -8.10961226e-01, -3.76721981e-01,\n",
              "        9.51358795e-02,  5.57493683e-01,  9.64181415e-01,  1.27458814e+00,\n",
              "        1.45771735e+00,  1.49528216e+00,  1.38353144e+00,  1.13362436e+00,\n",
              "        7.70516087e-01,  3.30465799e-01, -1.42584065e-01, -6.01395803e-01,\n",
              "       -1.00015350e+00, -1.29903811e+00, -1.46820367e+00, -1.49075770e+00,\n",
              "       -1.36444799e+00, -1.10188756e+00, -7.29295104e-01, -2.83876867e-01,\n",
              "        1.89888680e-01,  6.44692368e-01,  1.03511852e+00,  1.32218005e+00,\n",
              "        1.47721163e+00,  1.48473216e+00,  1.34399066e+00,  1.06904126e+00,\n",
              "        6.87339783e-01,  2.37002094e-01, -2.37002094e-01, -6.87339783e-01,\n",
              "       -1.06904126e+00, -1.34399066e+00, -1.48473216e+00, -1.47721163e+00,\n",
              "       -1.32218005e+00, -1.03511852e+00, -6.44692368e-01, -1.89888680e-01,\n",
              "        2.83876867e-01,  7.29295104e-01,  1.10188756e+00,  1.36444799e+00,\n",
              "        1.49075770e+00,  1.46820367e+00,  1.29903811e+00,  1.00015350e+00,\n",
              "        6.01395803e-01,  1.42584065e-01, -3.30465799e-01, -7.70516087e-01,\n",
              "       -1.13362436e+00, -1.38353144e+00, -1.49528216e+00, -1.45771735e+00,\n",
              "       -1.27458814e+00, -9.64181415e-01, -5.57493683e-01, -9.51358795e-02,\n",
              "        3.76721981e-01,  8.10961226e-01,  1.16421970e+00,  1.40122179e+00,\n",
              "        1.49830101e+00,  1.44576324e+00,  1.24885478e+00,  9.27238479e-01,\n",
              "        5.13030215e-01,  4.75919002e-02, -4.22598835e-01, -8.50589796e-01,\n",
              "       -1.19364276e+00, -1.41750123e+00, -1.49981119e+00, -1.43235336e+00,\n",
              "       -1.22186393e+00, -8.89361894e-01, -4.68050169e-01, -1.83697020e-15])"
            ]
          },
          "metadata": {},
          "execution_count": 50
        }
      ]
    },
    {
      "cell_type": "code",
      "source": [
        "errors"
      ],
      "metadata": {
        "colab": {
          "base_uri": "https://localhost:8080/"
        },
        "id": "iTN41Tm3276u",
        "outputId": "8469422e-8120-4348-8d00-73f04c68aea3"
      },
      "execution_count": 51,
      "outputs": [
        {
          "output_type": "execute_result",
          "data": {
            "text/plain": [
              "array([0., 0., 0., 0., 0., 0., 0., 0., 0., 0., 0., 0., 0., 0., 0., 0., 0.,\n",
              "       0., 0., 0., 0., 0., 0., 0., 0., 0., 0., 0., 0., 0., 0., 0., 0., 0.,\n",
              "       0., 0., 0., 0., 0., 0., 0., 0., 0., 0., 0., 0., 0., 0., 0., 0., 0.,\n",
              "       0., 0., 0., 0., 0., 0., 0., 0., 0., 0., 0., 0., 0., 0., 0., 0., 0.,\n",
              "       0., 0., 0., 0., 0., 0., 0., 0., 0., 0., 0., 0., 0., 0., 0., 0., 0.,\n",
              "       0., 0., 0., 0., 0., 0., 0., 0., 0., 0., 0., 0., 0., 0., 0.])"
            ]
          },
          "metadata": {},
          "execution_count": 51
        }
      ]
    },
    {
      "cell_type": "code",
      "source": [
        "# PseudoPeriodic Signal with Amplitude=1 & Frequency=0.25\n",
        "signal = ts.signals.PseudoPeriodic(amplitude=1, frequency=0.25)\n",
        "\n",
        "# Generating Timeseries\n",
        "samples, regular_time_samples, signals, errors = generate_timeseries(signal=signal)\n",
        "plot_time_series(regular_time_samples, samples, \"PseudoPeriodic\")"
      ],
      "metadata": {
        "colab": {
          "base_uri": "https://localhost:8080/",
          "height": 517
        },
        "id": "1EG1ufiE3BAP",
        "outputId": "e6232842-df1c-4526-b269-bd75aac34aae"
      },
      "execution_count": 57,
      "outputs": [
        {
          "output_type": "display_data",
          "data": {
            "text/html": [
              "<html>\n",
              "<head><meta charset=\"utf-8\" /></head>\n",
              "<body>\n",
              "    <div>            <script src=\"https://cdnjs.cloudflare.com/ajax/libs/mathjax/2.7.5/MathJax.js?config=TeX-AMS-MML_SVG\"></script><script type=\"text/javascript\">if (window.MathJax && window.MathJax.Hub && window.MathJax.Hub.Config) {window.MathJax.Hub.Config({SVG: {font: \"STIX-Web\"}});}</script>                <script type=\"text/javascript\">window.PlotlyConfig = {MathJaxConfig: 'local'};</script>\n",
              "        <script charset=\"utf-8\" src=\"https://cdn.plot.ly/plotly-2.24.1.min.js\"></script>                <div id=\"03053932-a807-489f-8b1d-136fe024f3e6\" class=\"plotly-graph-div\" style=\"height:500px; width:900px;\"></div>            <script type=\"text/javascript\">                                    window.PLOTLYENV=window.PLOTLYENV || {};                                    if (document.getElementById(\"03053932-a807-489f-8b1d-136fe024f3e6\")) {                    Plotly.newPlot(                        \"03053932-a807-489f-8b1d-136fe024f3e6\",                        [{\"hovertemplate\":\"Time=%{x}\\u003cbr\\u003eValue=%{y}\\u003cextra\\u003e\\u003c\\u002fextra\\u003e\",\"legendgroup\":\"\",\"line\":{\"color\":\"#636efa\",\"dash\":\"solid\"},\"marker\":{\"symbol\":\"circle\"},\"mode\":\"lines\",\"name\":\"\",\"orientation\":\"v\",\"showlegend\":false,\"x\":[0.0,0.20202020202020202,0.40404040404040403,0.6060606060606061,0.8080808080808081,1.0101010101010102,1.2121212121212122,1.4141414141414141,1.6161616161616161,1.8181818181818181,2.0202020202020203,2.2222222222222223,2.4242424242424243,2.6262626262626263,2.8282828282828283,3.0303030303030303,3.2323232323232323,3.4343434343434343,3.6363636363636362,3.8383838383838382,4.040404040404041,4.242424242424242,4.444444444444445,4.646464646464646,4.848484848484849,5.05050505050505,5.252525252525253,5.454545454545454,5.656565656565657,5.858585858585858,6.0606060606060606,6.262626262626262,6.4646464646464645,6.666666666666667,6.8686868686868685,7.070707070707071,7.2727272727272725,7.474747474747475,7.6767676767676765,7.878787878787879,8.080808080808081,8.282828282828282,8.484848484848484,8.686868686868687,8.88888888888889,9.09090909090909,9.292929292929292,9.494949494949495,9.696969696969697,9.8989898989899,10.1010101010101,10.303030303030303,10.505050505050505,10.707070707070708,10.909090909090908,11.11111111111111,11.313131313131313,11.515151515151516,11.717171717171716,11.919191919191919,12.121212121212121,12.323232323232324,12.525252525252524,12.727272727272727,12.929292929292929,13.131313131313131,13.333333333333334,13.535353535353535,13.737373737373737,13.93939393939394,14.141414141414142,14.343434343434343,14.545454545454545,14.747474747474747,14.94949494949495,15.15151515151515,15.353535353535353,15.555555555555555,15.757575757575758,15.959595959595958,16.161616161616163,16.363636363636363,16.565656565656564,16.767676767676768,16.96969696969697,17.171717171717173,17.373737373737374,17.575757575757574,17.77777777777778,17.97979797979798,18.18181818181818,18.383838383838384,18.585858585858585,18.78787878787879,18.98989898989899,19.19191919191919,19.393939393939394,19.595959595959595,19.7979797979798,20.0],\"xaxis\":\"x\",\"y\":[0.0,0.0026959727579877277,0.11561554795918781,0.1870515852489738,0.14475664964766632,0.5984443632040285,0.6186061227751164,0.6099103930586466,0.7887534557524154,1.0402701884634327,0.9160370996707535,0.752283699609219,0.2340491767033628,0.6357514693464652,1.001455224146253,0.09717056475739255,1.0010062274932676,0.6587838456690158,-0.48230375893898125,-0.3163327170600279,0.9138977037663691,1.0543363382982764,1.072302836700671,0.06834952253680612,0.6786151261393427,0.758963319120385,0.29406179056814497,-0.9146479897428148,-0.23861487488158512,-1.0516825761980222,0.4608569723046515,1.162235445380119,0.34587861555354543,0.8932347861235858,0.8528474343314955,1.0291135838211665,-0.8494030582307303,-0.444250421930712,-0.8980815371690097,1.0513005236923458,-0.572005019280221,0.40178311608534023,-0.875633068482452,-0.5193003454936164,0.8139370886736876,-0.014987816423708332,0.5416403517850151,-0.4658589340185586,-0.13904745739677138,-0.799025752694224,-0.773896670372119,-0.30416109670895236,-0.26307578749972227,0.7216723307934361,0.8602654391991991,0.5958640964759215,0.7128244415171976,-0.5820209850133868,-0.5855347859479538,-0.4302941903479469,0.8856863828167967,0.658525245252349,0.10169180149877562,-1.058315070147307,-1.0922639681398865,0.4767168296234389,-0.9055654463693916,0.08897422197974339,-1.0696009047342603,0.10778503581560908,-0.8715594507863763,-0.03372489520058484,-0.7594598705230754,-0.8993510299207381,-0.7931954804970504,0.9399542674686377,-0.3663586763654138,0.8618541203908194,-0.9986561199616354,-0.6364002093604267,0.03388026199976137,-0.8451356599961383,-1.0333797559430227,-0.8017710982083623,0.5196499236931209,-0.3934712286063842,0.03484659248459824,-0.05616857756409853,-0.3419317148623816,-1.151110535409474,-0.6361488816748662,-0.9143988440981903,0.6659732656469337,0.03471289776726539,-0.8413198920450298,0.6094768513622588,-0.7202256383355086,-0.28662642812442496,0.048674682159931794,-0.7616513913385963],\"yaxis\":\"y\",\"type\":\"scatter\"}],                        {\"template\":{\"data\":{\"histogram2dcontour\":[{\"type\":\"histogram2dcontour\",\"colorbar\":{\"outlinewidth\":0,\"ticks\":\"\"},\"colorscale\":[[0.0,\"#0d0887\"],[0.1111111111111111,\"#46039f\"],[0.2222222222222222,\"#7201a8\"],[0.3333333333333333,\"#9c179e\"],[0.4444444444444444,\"#bd3786\"],[0.5555555555555556,\"#d8576b\"],[0.6666666666666666,\"#ed7953\"],[0.7777777777777778,\"#fb9f3a\"],[0.8888888888888888,\"#fdca26\"],[1.0,\"#f0f921\"]]}],\"choropleth\":[{\"type\":\"choropleth\",\"colorbar\":{\"outlinewidth\":0,\"ticks\":\"\"}}],\"histogram2d\":[{\"type\":\"histogram2d\",\"colorbar\":{\"outlinewidth\":0,\"ticks\":\"\"},\"colorscale\":[[0.0,\"#0d0887\"],[0.1111111111111111,\"#46039f\"],[0.2222222222222222,\"#7201a8\"],[0.3333333333333333,\"#9c179e\"],[0.4444444444444444,\"#bd3786\"],[0.5555555555555556,\"#d8576b\"],[0.6666666666666666,\"#ed7953\"],[0.7777777777777778,\"#fb9f3a\"],[0.8888888888888888,\"#fdca26\"],[1.0,\"#f0f921\"]]}],\"heatmap\":[{\"type\":\"heatmap\",\"colorbar\":{\"outlinewidth\":0,\"ticks\":\"\"},\"colorscale\":[[0.0,\"#0d0887\"],[0.1111111111111111,\"#46039f\"],[0.2222222222222222,\"#7201a8\"],[0.3333333333333333,\"#9c179e\"],[0.4444444444444444,\"#bd3786\"],[0.5555555555555556,\"#d8576b\"],[0.6666666666666666,\"#ed7953\"],[0.7777777777777778,\"#fb9f3a\"],[0.8888888888888888,\"#fdca26\"],[1.0,\"#f0f921\"]]}],\"heatmapgl\":[{\"type\":\"heatmapgl\",\"colorbar\":{\"outlinewidth\":0,\"ticks\":\"\"},\"colorscale\":[[0.0,\"#0d0887\"],[0.1111111111111111,\"#46039f\"],[0.2222222222222222,\"#7201a8\"],[0.3333333333333333,\"#9c179e\"],[0.4444444444444444,\"#bd3786\"],[0.5555555555555556,\"#d8576b\"],[0.6666666666666666,\"#ed7953\"],[0.7777777777777778,\"#fb9f3a\"],[0.8888888888888888,\"#fdca26\"],[1.0,\"#f0f921\"]]}],\"contourcarpet\":[{\"type\":\"contourcarpet\",\"colorbar\":{\"outlinewidth\":0,\"ticks\":\"\"}}],\"contour\":[{\"type\":\"contour\",\"colorbar\":{\"outlinewidth\":0,\"ticks\":\"\"},\"colorscale\":[[0.0,\"#0d0887\"],[0.1111111111111111,\"#46039f\"],[0.2222222222222222,\"#7201a8\"],[0.3333333333333333,\"#9c179e\"],[0.4444444444444444,\"#bd3786\"],[0.5555555555555556,\"#d8576b\"],[0.6666666666666666,\"#ed7953\"],[0.7777777777777778,\"#fb9f3a\"],[0.8888888888888888,\"#fdca26\"],[1.0,\"#f0f921\"]]}],\"surface\":[{\"type\":\"surface\",\"colorbar\":{\"outlinewidth\":0,\"ticks\":\"\"},\"colorscale\":[[0.0,\"#0d0887\"],[0.1111111111111111,\"#46039f\"],[0.2222222222222222,\"#7201a8\"],[0.3333333333333333,\"#9c179e\"],[0.4444444444444444,\"#bd3786\"],[0.5555555555555556,\"#d8576b\"],[0.6666666666666666,\"#ed7953\"],[0.7777777777777778,\"#fb9f3a\"],[0.8888888888888888,\"#fdca26\"],[1.0,\"#f0f921\"]]}],\"mesh3d\":[{\"type\":\"mesh3d\",\"colorbar\":{\"outlinewidth\":0,\"ticks\":\"\"}}],\"scatter\":[{\"fillpattern\":{\"fillmode\":\"overlay\",\"size\":10,\"solidity\":0.2},\"type\":\"scatter\"}],\"parcoords\":[{\"type\":\"parcoords\",\"line\":{\"colorbar\":{\"outlinewidth\":0,\"ticks\":\"\"}}}],\"scatterpolargl\":[{\"type\":\"scatterpolargl\",\"marker\":{\"colorbar\":{\"outlinewidth\":0,\"ticks\":\"\"}}}],\"bar\":[{\"error_x\":{\"color\":\"#2a3f5f\"},\"error_y\":{\"color\":\"#2a3f5f\"},\"marker\":{\"line\":{\"color\":\"white\",\"width\":0.5},\"pattern\":{\"fillmode\":\"overlay\",\"size\":10,\"solidity\":0.2}},\"type\":\"bar\"}],\"scattergeo\":[{\"type\":\"scattergeo\",\"marker\":{\"colorbar\":{\"outlinewidth\":0,\"ticks\":\"\"}}}],\"scatterpolar\":[{\"type\":\"scatterpolar\",\"marker\":{\"colorbar\":{\"outlinewidth\":0,\"ticks\":\"\"}}}],\"histogram\":[{\"marker\":{\"pattern\":{\"fillmode\":\"overlay\",\"size\":10,\"solidity\":0.2}},\"type\":\"histogram\"}],\"scattergl\":[{\"type\":\"scattergl\",\"marker\":{\"colorbar\":{\"outlinewidth\":0,\"ticks\":\"\"}}}],\"scatter3d\":[{\"type\":\"scatter3d\",\"line\":{\"colorbar\":{\"outlinewidth\":0,\"ticks\":\"\"}},\"marker\":{\"colorbar\":{\"outlinewidth\":0,\"ticks\":\"\"}}}],\"scattermapbox\":[{\"type\":\"scattermapbox\",\"marker\":{\"colorbar\":{\"outlinewidth\":0,\"ticks\":\"\"}}}],\"scatterternary\":[{\"type\":\"scatterternary\",\"marker\":{\"colorbar\":{\"outlinewidth\":0,\"ticks\":\"\"}}}],\"scattercarpet\":[{\"type\":\"scattercarpet\",\"marker\":{\"colorbar\":{\"outlinewidth\":0,\"ticks\":\"\"}}}],\"carpet\":[{\"aaxis\":{\"endlinecolor\":\"#2a3f5f\",\"gridcolor\":\"#C8D4E3\",\"linecolor\":\"#C8D4E3\",\"minorgridcolor\":\"#C8D4E3\",\"startlinecolor\":\"#2a3f5f\"},\"baxis\":{\"endlinecolor\":\"#2a3f5f\",\"gridcolor\":\"#C8D4E3\",\"linecolor\":\"#C8D4E3\",\"minorgridcolor\":\"#C8D4E3\",\"startlinecolor\":\"#2a3f5f\"},\"type\":\"carpet\"}],\"table\":[{\"cells\":{\"fill\":{\"color\":\"#EBF0F8\"},\"line\":{\"color\":\"white\"}},\"header\":{\"fill\":{\"color\":\"#C8D4E3\"},\"line\":{\"color\":\"white\"}},\"type\":\"table\"}],\"barpolar\":[{\"marker\":{\"line\":{\"color\":\"white\",\"width\":0.5},\"pattern\":{\"fillmode\":\"overlay\",\"size\":10,\"solidity\":0.2}},\"type\":\"barpolar\"}],\"pie\":[{\"automargin\":true,\"type\":\"pie\"}]},\"layout\":{\"autotypenumbers\":\"strict\",\"colorway\":[\"#636efa\",\"#EF553B\",\"#00cc96\",\"#ab63fa\",\"#FFA15A\",\"#19d3f3\",\"#FF6692\",\"#B6E880\",\"#FF97FF\",\"#FECB52\"],\"font\":{\"color\":\"#2a3f5f\"},\"hovermode\":\"closest\",\"hoverlabel\":{\"align\":\"left\"},\"paper_bgcolor\":\"white\",\"plot_bgcolor\":\"white\",\"polar\":{\"bgcolor\":\"white\",\"angularaxis\":{\"gridcolor\":\"#EBF0F8\",\"linecolor\":\"#EBF0F8\",\"ticks\":\"\"},\"radialaxis\":{\"gridcolor\":\"#EBF0F8\",\"linecolor\":\"#EBF0F8\",\"ticks\":\"\"}},\"ternary\":{\"bgcolor\":\"white\",\"aaxis\":{\"gridcolor\":\"#DFE8F3\",\"linecolor\":\"#A2B1C6\",\"ticks\":\"\"},\"baxis\":{\"gridcolor\":\"#DFE8F3\",\"linecolor\":\"#A2B1C6\",\"ticks\":\"\"},\"caxis\":{\"gridcolor\":\"#DFE8F3\",\"linecolor\":\"#A2B1C6\",\"ticks\":\"\"}},\"coloraxis\":{\"colorbar\":{\"outlinewidth\":0,\"ticks\":\"\"}},\"colorscale\":{\"sequential\":[[0.0,\"#0d0887\"],[0.1111111111111111,\"#46039f\"],[0.2222222222222222,\"#7201a8\"],[0.3333333333333333,\"#9c179e\"],[0.4444444444444444,\"#bd3786\"],[0.5555555555555556,\"#d8576b\"],[0.6666666666666666,\"#ed7953\"],[0.7777777777777778,\"#fb9f3a\"],[0.8888888888888888,\"#fdca26\"],[1.0,\"#f0f921\"]],\"sequentialminus\":[[0.0,\"#0d0887\"],[0.1111111111111111,\"#46039f\"],[0.2222222222222222,\"#7201a8\"],[0.3333333333333333,\"#9c179e\"],[0.4444444444444444,\"#bd3786\"],[0.5555555555555556,\"#d8576b\"],[0.6666666666666666,\"#ed7953\"],[0.7777777777777778,\"#fb9f3a\"],[0.8888888888888888,\"#fdca26\"],[1.0,\"#f0f921\"]],\"diverging\":[[0,\"#8e0152\"],[0.1,\"#c51b7d\"],[0.2,\"#de77ae\"],[0.3,\"#f1b6da\"],[0.4,\"#fde0ef\"],[0.5,\"#f7f7f7\"],[0.6,\"#e6f5d0\"],[0.7,\"#b8e186\"],[0.8,\"#7fbc41\"],[0.9,\"#4d9221\"],[1,\"#276419\"]]},\"xaxis\":{\"gridcolor\":\"#EBF0F8\",\"linecolor\":\"#EBF0F8\",\"ticks\":\"\",\"title\":{\"standoff\":15},\"zerolinecolor\":\"#EBF0F8\",\"automargin\":true,\"zerolinewidth\":2},\"yaxis\":{\"gridcolor\":\"#EBF0F8\",\"linecolor\":\"#EBF0F8\",\"ticks\":\"\",\"title\":{\"standoff\":15},\"zerolinecolor\":\"#EBF0F8\",\"automargin\":true,\"zerolinewidth\":2},\"scene\":{\"xaxis\":{\"backgroundcolor\":\"white\",\"gridcolor\":\"#DFE8F3\",\"linecolor\":\"#EBF0F8\",\"showbackground\":true,\"ticks\":\"\",\"zerolinecolor\":\"#EBF0F8\",\"gridwidth\":2},\"yaxis\":{\"backgroundcolor\":\"white\",\"gridcolor\":\"#DFE8F3\",\"linecolor\":\"#EBF0F8\",\"showbackground\":true,\"ticks\":\"\",\"zerolinecolor\":\"#EBF0F8\",\"gridwidth\":2},\"zaxis\":{\"backgroundcolor\":\"white\",\"gridcolor\":\"#DFE8F3\",\"linecolor\":\"#EBF0F8\",\"showbackground\":true,\"ticks\":\"\",\"zerolinecolor\":\"#EBF0F8\",\"gridwidth\":2}},\"shapedefaults\":{\"line\":{\"color\":\"#2a3f5f\"}},\"annotationdefaults\":{\"arrowcolor\":\"#2a3f5f\",\"arrowhead\":0,\"arrowwidth\":1},\"geo\":{\"bgcolor\":\"white\",\"landcolor\":\"white\",\"subunitcolor\":\"#C8D4E3\",\"showland\":true,\"showlakes\":true,\"lakecolor\":\"white\"},\"title\":{\"x\":0.05},\"mapbox\":{\"style\":\"light\"}}},\"xaxis\":{\"anchor\":\"y\",\"domain\":[0.0,1.0],\"title\":{\"text\":\"Time\",\"font\":{\"size\":12}}},\"yaxis\":{\"anchor\":\"x\",\"domain\":[0.0,1.0],\"title\":{\"text\":\"Value\",\"font\":{\"size\":12}}},\"legend\":{\"tracegroupgap\":0},\"margin\":{\"t\":60},\"title\":{\"font\":{\"size\":25},\"text\":\"PseudoPeriodic\",\"x\":0.5,\"xanchor\":\"center\",\"yanchor\":\"top\"},\"autosize\":false,\"width\":900,\"height\":500},                        {\"responsive\": true}                    ).then(function(){\n",
              "                            \n",
              "var gd = document.getElementById('03053932-a807-489f-8b1d-136fe024f3e6');\n",
              "var x = new MutationObserver(function (mutations, observer) {{\n",
              "        var display = window.getComputedStyle(gd).display;\n",
              "        if (!display || display === 'none') {{\n",
              "            console.log([gd, 'removed!']);\n",
              "            Plotly.purge(gd);\n",
              "            observer.disconnect();\n",
              "        }}\n",
              "}});\n",
              "\n",
              "// Listen for the removal of the full notebook cells\n",
              "var notebookContainer = gd.closest('#notebook-container');\n",
              "if (notebookContainer) {{\n",
              "    x.observe(notebookContainer, {childList: true});\n",
              "}}\n",
              "\n",
              "// Listen for the clearing of the current output cell\n",
              "var outputEl = gd.closest('.output');\n",
              "if (outputEl) {{\n",
              "    x.observe(outputEl, {childList: true});\n",
              "}}\n",
              "\n",
              "                        })                };                            </script>        </div>\n",
              "</body>\n",
              "</html>"
            ]
          },
          "metadata": {}
        }
      ]
    },
    {
      "cell_type": "markdown",
      "source": [
        "## AutoRegressive Signals"
      ],
      "metadata": {
        "id": "Korwj0ID9bfz"
      }
    },
    {
      "cell_type": "code",
      "source": [
        "# Autoregressive signal with parameters 1.5 and -0.75\n",
        "# y(t) = 1.5 * y(t-1) - 0.75 * y(t-2)\n",
        "signal = ts.signals.AutoRegressive(ar_param=[1.5, -0.75])"
      ],
      "metadata": {
        "id": "JzgDnPhY82KW"
      },
      "execution_count": 58,
      "outputs": []
    },
    {
      "cell_type": "code",
      "source": [
        "# Generate TimeSeries\n",
        "samples, regular_time_samples, signals, errors = generate_timeseries(signal=signal)\n",
        "plot_time_series(regular_time_samples, samples, \"Auto Regressive\")"
      ],
      "metadata": {
        "colab": {
          "base_uri": "https://localhost:8080/",
          "height": 606
        },
        "id": "qMWj152g-Jui",
        "outputId": "2d015274-9f21-40a0-dd5e-150bbcc64ea7"
      },
      "execution_count": 59,
      "outputs": [
        {
          "output_type": "stream",
          "name": "stderr",
          "text": [
            "/usr/local/lib/python3.10/dist-packages/numpy/core/fromnumeric.py:86: VisibleDeprecationWarning:\n",
            "\n",
            "Creating an ndarray from ragged nested sequences (which is a list-or-tuple of lists-or-tuples-or ndarrays with different lengths or shapes) is deprecated. If you meant to do this, you must specify 'dtype=object' when creating the ndarray.\n",
            "\n"
          ]
        },
        {
          "output_type": "display_data",
          "data": {
            "text/html": [
              "<html>\n",
              "<head><meta charset=\"utf-8\" /></head>\n",
              "<body>\n",
              "    <div>            <script src=\"https://cdnjs.cloudflare.com/ajax/libs/mathjax/2.7.5/MathJax.js?config=TeX-AMS-MML_SVG\"></script><script type=\"text/javascript\">if (window.MathJax && window.MathJax.Hub && window.MathJax.Hub.Config) {window.MathJax.Hub.Config({SVG: {font: \"STIX-Web\"}});}</script>                <script type=\"text/javascript\">window.PlotlyConfig = {MathJaxConfig: 'local'};</script>\n",
              "        <script charset=\"utf-8\" src=\"https://cdn.plot.ly/plotly-2.24.1.min.js\"></script>                <div id=\"b325d93e-7cb1-49c2-8c35-a76742d8c273\" class=\"plotly-graph-div\" style=\"height:500px; width:900px;\"></div>            <script type=\"text/javascript\">                                    window.PLOTLYENV=window.PLOTLYENV || {};                                    if (document.getElementById(\"b325d93e-7cb1-49c2-8c35-a76742d8c273\")) {                    Plotly.newPlot(                        \"b325d93e-7cb1-49c2-8c35-a76742d8c273\",                        [{\"hovertemplate\":\"Time=%{x}\\u003cbr\\u003eValue=%{y}\\u003cextra\\u003e\\u003c\\u002fextra\\u003e\",\"legendgroup\":\"\",\"line\":{\"color\":\"#636efa\",\"dash\":\"solid\"},\"marker\":{\"symbol\":\"circle\"},\"mode\":\"lines\",\"name\":\"\",\"orientation\":\"v\",\"showlegend\":false,\"x\":[0.0,0.20202020202020202,0.40404040404040403,0.6060606060606061,0.8080808080808081,1.0101010101010102,1.2121212121212122,1.4141414141414141,1.6161616161616161,1.8181818181818181,2.0202020202020203,2.2222222222222223,2.4242424242424243,2.6262626262626263,2.8282828282828283,3.0303030303030303,3.2323232323232323,3.4343434343434343,3.6363636363636362,3.8383838383838382,4.040404040404041,4.242424242424242,4.444444444444445,4.646464646464646,4.848484848484849,5.05050505050505,5.252525252525253,5.454545454545454,5.656565656565657,5.858585858585858,6.0606060606060606,6.262626262626262,6.4646464646464645,6.666666666666667,6.8686868686868685,7.070707070707071,7.2727272727272725,7.474747474747475,7.6767676767676765,7.878787878787879,8.080808080808081,8.282828282828282,8.484848484848484,8.686868686868687,8.88888888888889,9.09090909090909,9.292929292929292,9.494949494949495,9.696969696969697,9.8989898989899,10.1010101010101,10.303030303030303,10.505050505050505,10.707070707070708,10.909090909090908,11.11111111111111,11.313131313131313,11.515151515151516,11.717171717171716,11.919191919191919,12.121212121212121,12.323232323232324,12.525252525252524,12.727272727272727,12.929292929292929,13.131313131313131,13.333333333333334,13.535353535353535,13.737373737373737,13.93939393939394,14.141414141414142,14.343434343434343,14.545454545454545,14.747474747474747,14.94949494949495,15.15151515151515,15.353535353535353,15.555555555555555,15.757575757575758,15.959595959595958,16.161616161616163,16.363636363636363,16.565656565656564,16.767676767676768,16.96969696969697,17.171717171717173,17.373737373737374,17.575757575757574,17.77777777777778,17.97979797979798,18.18181818181818,18.383838383838384,18.585858585858585,18.78787878787879,18.98989898989899,19.19191919191919,19.393939393939394,19.595959595959595,19.7979797979798,20.0],\"xaxis\":\"x\",\"y\":[-0.044881376565335994,0.034950315056022696,1.3141829570452066,1.5486745452708035,1.3671965318072823,1.202815239171985,0.1803005031114122,-1.0738519013043712,-1.62229477452222,-1.7585178295485409,-1.2010559385322737,-1.8996826335477033,-2.2453447973219496,-1.0803660453873156,1.1599791959975367,1.810946449244834,2.1879922298389634,1.9273686764122395,1.8529618996736152,1.6337117099199885,1.786768872349962,1.3875756878684258,0.3821172684833745,-0.4615843649614743,-0.5163506242319817,-0.28064089259243097,0.011498478870222179,-0.059866664571351424,0.19300704318067163,0.14939805567291817,0.3184191188733964,-0.12674666603275836,-0.2586267736645649,0.4874220133889282,1.0112994827741038,1.2151559759842987,0.823786698736393,1.6430407357016605,1.6489922367509975,0.45529111070012096,-1.3143641835124789,-1.8132493956464852,-0.6378184052124949,-0.04506516716673037,0.6249047222037724,0.5666348845485611,0.8779207100177362,0.884264863919982,0.12600982759403367,-0.2408750330437723,-1.203320425391897,-2.0778950050825675,-1.9865178928805811,-2.1935486232546886,-2.0186302942559324,-1.3981251560983443,-0.7076605330943888,0.3561124032323492,0.8930906087471979,0.984436467964406,1.4008857599737345,1.6552697123209286,0.4014563164032139,-1.1560440752181105,-2.0602541223087694,-2.076998979277837,-1.4604211408582153,-1.2969100189771146,-0.778734766248097,0.6931573569726023,0.7607549107503511,0.2734457169791278,0.04145067181989184,-0.38782498362322093,-1.0221096589024032,-0.7857845027956002,-0.33783320996691424,-0.09740232252866965,0.4895169043823961,0.6349213476149824,0.8060366161154409,1.1638897495915026,1.5665291103037484,1.2517263708209645,0.27363401851273933,-0.8865674828520358,-1.607337912360984,-1.9065455364805968,-1.3179780510161656,-0.29776960045093087,0.33487701757581045,1.3113472162484219,1.8658467546497637,1.8142122977908397,2.058823166423977,2.071725351506,2.095649767545418,2.1077612570134168,2.1409353931539403,1.8246448329828344],\"yaxis\":\"y\",\"type\":\"scatter\"}],                        {\"template\":{\"data\":{\"histogram2dcontour\":[{\"type\":\"histogram2dcontour\",\"colorbar\":{\"outlinewidth\":0,\"ticks\":\"\"},\"colorscale\":[[0.0,\"#0d0887\"],[0.1111111111111111,\"#46039f\"],[0.2222222222222222,\"#7201a8\"],[0.3333333333333333,\"#9c179e\"],[0.4444444444444444,\"#bd3786\"],[0.5555555555555556,\"#d8576b\"],[0.6666666666666666,\"#ed7953\"],[0.7777777777777778,\"#fb9f3a\"],[0.8888888888888888,\"#fdca26\"],[1.0,\"#f0f921\"]]}],\"choropleth\":[{\"type\":\"choropleth\",\"colorbar\":{\"outlinewidth\":0,\"ticks\":\"\"}}],\"histogram2d\":[{\"type\":\"histogram2d\",\"colorbar\":{\"outlinewidth\":0,\"ticks\":\"\"},\"colorscale\":[[0.0,\"#0d0887\"],[0.1111111111111111,\"#46039f\"],[0.2222222222222222,\"#7201a8\"],[0.3333333333333333,\"#9c179e\"],[0.4444444444444444,\"#bd3786\"],[0.5555555555555556,\"#d8576b\"],[0.6666666666666666,\"#ed7953\"],[0.7777777777777778,\"#fb9f3a\"],[0.8888888888888888,\"#fdca26\"],[1.0,\"#f0f921\"]]}],\"heatmap\":[{\"type\":\"heatmap\",\"colorbar\":{\"outlinewidth\":0,\"ticks\":\"\"},\"colorscale\":[[0.0,\"#0d0887\"],[0.1111111111111111,\"#46039f\"],[0.2222222222222222,\"#7201a8\"],[0.3333333333333333,\"#9c179e\"],[0.4444444444444444,\"#bd3786\"],[0.5555555555555556,\"#d8576b\"],[0.6666666666666666,\"#ed7953\"],[0.7777777777777778,\"#fb9f3a\"],[0.8888888888888888,\"#fdca26\"],[1.0,\"#f0f921\"]]}],\"heatmapgl\":[{\"type\":\"heatmapgl\",\"colorbar\":{\"outlinewidth\":0,\"ticks\":\"\"},\"colorscale\":[[0.0,\"#0d0887\"],[0.1111111111111111,\"#46039f\"],[0.2222222222222222,\"#7201a8\"],[0.3333333333333333,\"#9c179e\"],[0.4444444444444444,\"#bd3786\"],[0.5555555555555556,\"#d8576b\"],[0.6666666666666666,\"#ed7953\"],[0.7777777777777778,\"#fb9f3a\"],[0.8888888888888888,\"#fdca26\"],[1.0,\"#f0f921\"]]}],\"contourcarpet\":[{\"type\":\"contourcarpet\",\"colorbar\":{\"outlinewidth\":0,\"ticks\":\"\"}}],\"contour\":[{\"type\":\"contour\",\"colorbar\":{\"outlinewidth\":0,\"ticks\":\"\"},\"colorscale\":[[0.0,\"#0d0887\"],[0.1111111111111111,\"#46039f\"],[0.2222222222222222,\"#7201a8\"],[0.3333333333333333,\"#9c179e\"],[0.4444444444444444,\"#bd3786\"],[0.5555555555555556,\"#d8576b\"],[0.6666666666666666,\"#ed7953\"],[0.7777777777777778,\"#fb9f3a\"],[0.8888888888888888,\"#fdca26\"],[1.0,\"#f0f921\"]]}],\"surface\":[{\"type\":\"surface\",\"colorbar\":{\"outlinewidth\":0,\"ticks\":\"\"},\"colorscale\":[[0.0,\"#0d0887\"],[0.1111111111111111,\"#46039f\"],[0.2222222222222222,\"#7201a8\"],[0.3333333333333333,\"#9c179e\"],[0.4444444444444444,\"#bd3786\"],[0.5555555555555556,\"#d8576b\"],[0.6666666666666666,\"#ed7953\"],[0.7777777777777778,\"#fb9f3a\"],[0.8888888888888888,\"#fdca26\"],[1.0,\"#f0f921\"]]}],\"mesh3d\":[{\"type\":\"mesh3d\",\"colorbar\":{\"outlinewidth\":0,\"ticks\":\"\"}}],\"scatter\":[{\"fillpattern\":{\"fillmode\":\"overlay\",\"size\":10,\"solidity\":0.2},\"type\":\"scatter\"}],\"parcoords\":[{\"type\":\"parcoords\",\"line\":{\"colorbar\":{\"outlinewidth\":0,\"ticks\":\"\"}}}],\"scatterpolargl\":[{\"type\":\"scatterpolargl\",\"marker\":{\"colorbar\":{\"outlinewidth\":0,\"ticks\":\"\"}}}],\"bar\":[{\"error_x\":{\"color\":\"#2a3f5f\"},\"error_y\":{\"color\":\"#2a3f5f\"},\"marker\":{\"line\":{\"color\":\"white\",\"width\":0.5},\"pattern\":{\"fillmode\":\"overlay\",\"size\":10,\"solidity\":0.2}},\"type\":\"bar\"}],\"scattergeo\":[{\"type\":\"scattergeo\",\"marker\":{\"colorbar\":{\"outlinewidth\":0,\"ticks\":\"\"}}}],\"scatterpolar\":[{\"type\":\"scatterpolar\",\"marker\":{\"colorbar\":{\"outlinewidth\":0,\"ticks\":\"\"}}}],\"histogram\":[{\"marker\":{\"pattern\":{\"fillmode\":\"overlay\",\"size\":10,\"solidity\":0.2}},\"type\":\"histogram\"}],\"scattergl\":[{\"type\":\"scattergl\",\"marker\":{\"colorbar\":{\"outlinewidth\":0,\"ticks\":\"\"}}}],\"scatter3d\":[{\"type\":\"scatter3d\",\"line\":{\"colorbar\":{\"outlinewidth\":0,\"ticks\":\"\"}},\"marker\":{\"colorbar\":{\"outlinewidth\":0,\"ticks\":\"\"}}}],\"scattermapbox\":[{\"type\":\"scattermapbox\",\"marker\":{\"colorbar\":{\"outlinewidth\":0,\"ticks\":\"\"}}}],\"scatterternary\":[{\"type\":\"scatterternary\",\"marker\":{\"colorbar\":{\"outlinewidth\":0,\"ticks\":\"\"}}}],\"scattercarpet\":[{\"type\":\"scattercarpet\",\"marker\":{\"colorbar\":{\"outlinewidth\":0,\"ticks\":\"\"}}}],\"carpet\":[{\"aaxis\":{\"endlinecolor\":\"#2a3f5f\",\"gridcolor\":\"#C8D4E3\",\"linecolor\":\"#C8D4E3\",\"minorgridcolor\":\"#C8D4E3\",\"startlinecolor\":\"#2a3f5f\"},\"baxis\":{\"endlinecolor\":\"#2a3f5f\",\"gridcolor\":\"#C8D4E3\",\"linecolor\":\"#C8D4E3\",\"minorgridcolor\":\"#C8D4E3\",\"startlinecolor\":\"#2a3f5f\"},\"type\":\"carpet\"}],\"table\":[{\"cells\":{\"fill\":{\"color\":\"#EBF0F8\"},\"line\":{\"color\":\"white\"}},\"header\":{\"fill\":{\"color\":\"#C8D4E3\"},\"line\":{\"color\":\"white\"}},\"type\":\"table\"}],\"barpolar\":[{\"marker\":{\"line\":{\"color\":\"white\",\"width\":0.5},\"pattern\":{\"fillmode\":\"overlay\",\"size\":10,\"solidity\":0.2}},\"type\":\"barpolar\"}],\"pie\":[{\"automargin\":true,\"type\":\"pie\"}]},\"layout\":{\"autotypenumbers\":\"strict\",\"colorway\":[\"#636efa\",\"#EF553B\",\"#00cc96\",\"#ab63fa\",\"#FFA15A\",\"#19d3f3\",\"#FF6692\",\"#B6E880\",\"#FF97FF\",\"#FECB52\"],\"font\":{\"color\":\"#2a3f5f\"},\"hovermode\":\"closest\",\"hoverlabel\":{\"align\":\"left\"},\"paper_bgcolor\":\"white\",\"plot_bgcolor\":\"white\",\"polar\":{\"bgcolor\":\"white\",\"angularaxis\":{\"gridcolor\":\"#EBF0F8\",\"linecolor\":\"#EBF0F8\",\"ticks\":\"\"},\"radialaxis\":{\"gridcolor\":\"#EBF0F8\",\"linecolor\":\"#EBF0F8\",\"ticks\":\"\"}},\"ternary\":{\"bgcolor\":\"white\",\"aaxis\":{\"gridcolor\":\"#DFE8F3\",\"linecolor\":\"#A2B1C6\",\"ticks\":\"\"},\"baxis\":{\"gridcolor\":\"#DFE8F3\",\"linecolor\":\"#A2B1C6\",\"ticks\":\"\"},\"caxis\":{\"gridcolor\":\"#DFE8F3\",\"linecolor\":\"#A2B1C6\",\"ticks\":\"\"}},\"coloraxis\":{\"colorbar\":{\"outlinewidth\":0,\"ticks\":\"\"}},\"colorscale\":{\"sequential\":[[0.0,\"#0d0887\"],[0.1111111111111111,\"#46039f\"],[0.2222222222222222,\"#7201a8\"],[0.3333333333333333,\"#9c179e\"],[0.4444444444444444,\"#bd3786\"],[0.5555555555555556,\"#d8576b\"],[0.6666666666666666,\"#ed7953\"],[0.7777777777777778,\"#fb9f3a\"],[0.8888888888888888,\"#fdca26\"],[1.0,\"#f0f921\"]],\"sequentialminus\":[[0.0,\"#0d0887\"],[0.1111111111111111,\"#46039f\"],[0.2222222222222222,\"#7201a8\"],[0.3333333333333333,\"#9c179e\"],[0.4444444444444444,\"#bd3786\"],[0.5555555555555556,\"#d8576b\"],[0.6666666666666666,\"#ed7953\"],[0.7777777777777778,\"#fb9f3a\"],[0.8888888888888888,\"#fdca26\"],[1.0,\"#f0f921\"]],\"diverging\":[[0,\"#8e0152\"],[0.1,\"#c51b7d\"],[0.2,\"#de77ae\"],[0.3,\"#f1b6da\"],[0.4,\"#fde0ef\"],[0.5,\"#f7f7f7\"],[0.6,\"#e6f5d0\"],[0.7,\"#b8e186\"],[0.8,\"#7fbc41\"],[0.9,\"#4d9221\"],[1,\"#276419\"]]},\"xaxis\":{\"gridcolor\":\"#EBF0F8\",\"linecolor\":\"#EBF0F8\",\"ticks\":\"\",\"title\":{\"standoff\":15},\"zerolinecolor\":\"#EBF0F8\",\"automargin\":true,\"zerolinewidth\":2},\"yaxis\":{\"gridcolor\":\"#EBF0F8\",\"linecolor\":\"#EBF0F8\",\"ticks\":\"\",\"title\":{\"standoff\":15},\"zerolinecolor\":\"#EBF0F8\",\"automargin\":true,\"zerolinewidth\":2},\"scene\":{\"xaxis\":{\"backgroundcolor\":\"white\",\"gridcolor\":\"#DFE8F3\",\"linecolor\":\"#EBF0F8\",\"showbackground\":true,\"ticks\":\"\",\"zerolinecolor\":\"#EBF0F8\",\"gridwidth\":2},\"yaxis\":{\"backgroundcolor\":\"white\",\"gridcolor\":\"#DFE8F3\",\"linecolor\":\"#EBF0F8\",\"showbackground\":true,\"ticks\":\"\",\"zerolinecolor\":\"#EBF0F8\",\"gridwidth\":2},\"zaxis\":{\"backgroundcolor\":\"white\",\"gridcolor\":\"#DFE8F3\",\"linecolor\":\"#EBF0F8\",\"showbackground\":true,\"ticks\":\"\",\"zerolinecolor\":\"#EBF0F8\",\"gridwidth\":2}},\"shapedefaults\":{\"line\":{\"color\":\"#2a3f5f\"}},\"annotationdefaults\":{\"arrowcolor\":\"#2a3f5f\",\"arrowhead\":0,\"arrowwidth\":1},\"geo\":{\"bgcolor\":\"white\",\"landcolor\":\"white\",\"subunitcolor\":\"#C8D4E3\",\"showland\":true,\"showlakes\":true,\"lakecolor\":\"white\"},\"title\":{\"x\":0.05},\"mapbox\":{\"style\":\"light\"}}},\"xaxis\":{\"anchor\":\"y\",\"domain\":[0.0,1.0],\"title\":{\"text\":\"Time\",\"font\":{\"size\":12}}},\"yaxis\":{\"anchor\":\"x\",\"domain\":[0.0,1.0],\"title\":{\"text\":\"Value\",\"font\":{\"size\":12}}},\"legend\":{\"tracegroupgap\":0},\"margin\":{\"t\":60},\"title\":{\"font\":{\"size\":25},\"text\":\"Auto Regressive\",\"x\":0.5,\"xanchor\":\"center\",\"yanchor\":\"top\"},\"autosize\":false,\"width\":900,\"height\":500},                        {\"responsive\": true}                    ).then(function(){\n",
              "                            \n",
              "var gd = document.getElementById('b325d93e-7cb1-49c2-8c35-a76742d8c273');\n",
              "var x = new MutationObserver(function (mutations, observer) {{\n",
              "        var display = window.getComputedStyle(gd).display;\n",
              "        if (!display || display === 'none') {{\n",
              "            console.log([gd, 'removed!']);\n",
              "            Plotly.purge(gd);\n",
              "            observer.disconnect();\n",
              "        }}\n",
              "}});\n",
              "\n",
              "// Listen for the removal of the full notebook cells\n",
              "var notebookContainer = gd.closest('#notebook-container');\n",
              "if (notebookContainer) {{\n",
              "    x.observe(notebookContainer, {childList: true});\n",
              "}}\n",
              "\n",
              "// Listen for the clearing of the current output cell\n",
              "var outputEl = gd.closest('.output');\n",
              "if (outputEl) {{\n",
              "    x.observe(outputEl, {childList: true});\n",
              "}}\n",
              "\n",
              "                        })                };                            </script>        </div>\n",
              "</body>\n",
              "</html>"
            ]
          },
          "metadata": {}
        }
      ]
    },
    {
      "cell_type": "markdown",
      "source": [
        "## Mix and Match"
      ],
      "metadata": {
        "id": "rwsOaorwA9ag"
      }
    },
    {
      "cell_type": "code",
      "source": [
        "# Generating Pseudo Periodic Signal\n",
        "pseudo_samples, regular_time_samples, _, _ = generate_timeseries(signal=ts.signals.PseudoPeriodic(amplitude=1, frequency=1), noise=ts.noise.GaussianNoise(std=0.3))\n",
        "# Generating an Autoregressive Signal\n",
        "ar_samples, regular_time_samples, _, _ = generate_timeseries(signal=ts.signals.AutoRegressive(ar_param=[1.5, -0.75]))\n",
        "# Combining the two signals using a mathematical equation\n",
        "ts = pseudo_samples *2 + ar_samples\n",
        "plot_time_series(regular_time_samples, ts, \"Pseudo Periodic with AutoRegression and White Noise\")"
      ],
      "metadata": {
        "colab": {
          "base_uri": "https://localhost:8080/",
          "height": 606
        },
        "id": "uWvfLk_D-kES",
        "outputId": "1a6e920b-1086-4a36-a76e-e6b2138af68c"
      },
      "execution_count": 61,
      "outputs": [
        {
          "output_type": "stream",
          "name": "stderr",
          "text": [
            "/usr/local/lib/python3.10/dist-packages/numpy/core/fromnumeric.py:86: VisibleDeprecationWarning:\n",
            "\n",
            "Creating an ndarray from ragged nested sequences (which is a list-or-tuple of lists-or-tuples-or ndarrays with different lengths or shapes) is deprecated. If you meant to do this, you must specify 'dtype=object' when creating the ndarray.\n",
            "\n"
          ]
        },
        {
          "output_type": "display_data",
          "data": {
            "text/html": [
              "<html>\n",
              "<head><meta charset=\"utf-8\" /></head>\n",
              "<body>\n",
              "    <div>            <script src=\"https://cdnjs.cloudflare.com/ajax/libs/mathjax/2.7.5/MathJax.js?config=TeX-AMS-MML_SVG\"></script><script type=\"text/javascript\">if (window.MathJax && window.MathJax.Hub && window.MathJax.Hub.Config) {window.MathJax.Hub.Config({SVG: {font: \"STIX-Web\"}});}</script>                <script type=\"text/javascript\">window.PlotlyConfig = {MathJaxConfig: 'local'};</script>\n",
              "        <script charset=\"utf-8\" src=\"https://cdn.plot.ly/plotly-2.24.1.min.js\"></script>                <div id=\"4afd246d-7ac8-4fa5-bef2-a2cb49d8fed3\" class=\"plotly-graph-div\" style=\"height:500px; width:900px;\"></div>            <script type=\"text/javascript\">                                    window.PLOTLYENV=window.PLOTLYENV || {};                                    if (document.getElementById(\"4afd246d-7ac8-4fa5-bef2-a2cb49d8fed3\")) {                    Plotly.newPlot(                        \"4afd246d-7ac8-4fa5-bef2-a2cb49d8fed3\",                        [{\"hovertemplate\":\"Time=%{x}\\u003cbr\\u003eValue=%{y}\\u003cextra\\u003e\\u003c\\u002fextra\\u003e\",\"legendgroup\":\"\",\"line\":{\"color\":\"#636efa\",\"dash\":\"solid\"},\"marker\":{\"symbol\":\"circle\"},\"mode\":\"lines\",\"name\":\"\",\"orientation\":\"v\",\"showlegend\":false,\"x\":[0.0,0.20202020202020202,0.40404040404040403,0.6060606060606061,0.8080808080808081,1.0101010101010102,1.2121212121212122,1.4141414141414141,1.6161616161616161,1.8181818181818181,2.0202020202020203,2.2222222222222223,2.4242424242424243,2.6262626262626263,2.8282828282828283,3.0303030303030303,3.2323232323232323,3.4343434343434343,3.6363636363636362,3.8383838383838382,4.040404040404041,4.242424242424242,4.444444444444445,4.646464646464646,4.848484848484849,5.05050505050505,5.252525252525253,5.454545454545454,5.656565656565657,5.858585858585858,6.0606060606060606,6.262626262626262,6.4646464646464645,6.666666666666667,6.8686868686868685,7.070707070707071,7.2727272727272725,7.474747474747475,7.6767676767676765,7.878787878787879,8.080808080808081,8.282828282828282,8.484848484848484,8.686868686868687,8.88888888888889,9.09090909090909,9.292929292929292,9.494949494949495,9.696969696969697,9.8989898989899,10.1010101010101,10.303030303030303,10.505050505050505,10.707070707070708,10.909090909090908,11.11111111111111,11.313131313131313,11.515151515151516,11.717171717171716,11.919191919191919,12.121212121212121,12.323232323232324,12.525252525252524,12.727272727272727,12.929292929292929,13.131313131313131,13.333333333333334,13.535353535353535,13.737373737373737,13.93939393939394,14.141414141414142,14.343434343434343,14.545454545454545,14.747474747474747,14.94949494949495,15.15151515151515,15.353535353535353,15.555555555555555,15.757575757575758,15.959595959595958,16.161616161616163,16.363636363636363,16.565656565656564,16.767676767676768,16.96969696969697,17.171717171717173,17.373737373737374,17.575757575757574,17.77777777777778,17.97979797979798,18.18181818181818,18.383838383838384,18.585858585858585,18.78787878787879,18.98989898989899,19.19191919191919,19.393939393939394,19.595959595959595,19.7979797979798,20.0],\"xaxis\":\"x\",\"y\":[0.29784735904944515,-0.5542616227012527,1.0638722045224296,1.046545839803542,0.4839157625367795,1.8351009320261564,2.2739666308955964,1.5205416025667688,0.6557490302908899,2.9874351079443,2.6374251238204662,4.3093243490659265,2.5582117675902474,1.1417519660257813,0.7919605396137623,1.620195268254836,-2.9921895763753397,-1.6647681719745007,-3.952313555521771,-3.2452764338457056,-1.4355191323768186,-1.405665508813631,3.176772535038555,0.7153729096702466,1.3414613598805545,1.2019528802010924,-2.048031775273711,-0.037061993362681456,-0.865988827298211,-3.03948666082793,-3.0047780036858542,-1.4996284146300503,-2.5816434662782335,0.08288945328197084,-1.4736320965894036,1.5418203099478969,1.6454090170691562,1.4258404237948827,0.8386990574598219,0.1982482896317505,1.2357723309316884,-1.9586027660414054,2.4038513533197094,0.7620263349193167,0.2812897252324341,1.6011464359417502,0.5819398374668193,0.3004404642715429,0.37860372681402865,-0.35020240640446265,1.0495582699610484,-0.07558209050825437,-1.2633855440058996,3.211429518317061,2.925056752441848,-3.164714801096455,1.3824296244130598,-2.6912882988865476,-1.371401096469271,2.2625838311965727,4.199443272784681,1.9673926907964314,3.7638276893540548,2.5084276777354155,-1.2227458483861549,-1.680865570017473,-1.7388599577399606,-4.2794238372140505,-1.025278871730632,-1.136198319628773,2.05715412851524,-0.5756637872658468,0.14559734934042012,2.7531446000055197,-0.24574733741257382,0.5100944669686283,1.9905815405398952,1.3615168792966816,0.5298571671321672,-1.0499577566939504,-2.9609493201447368,-1.2217978827141502,-4.705261859479695,-2.1100338460108814,-0.46018971039096157,1.46797576630432,-1.1454001583422047,0.05590049620669224,-0.9685864474972335,1.579714978655383,0.33661070461976395,-4.52470993206596,-4.215760579232588,-1.6321048797160507,-3.051731730879383,-1.1354359991999565,-0.16053888190566834,-0.3491577920424902,1.993181178797601,2.1315670870238987],\"yaxis\":\"y\",\"type\":\"scatter\"}],                        {\"template\":{\"data\":{\"histogram2dcontour\":[{\"type\":\"histogram2dcontour\",\"colorbar\":{\"outlinewidth\":0,\"ticks\":\"\"},\"colorscale\":[[0.0,\"#0d0887\"],[0.1111111111111111,\"#46039f\"],[0.2222222222222222,\"#7201a8\"],[0.3333333333333333,\"#9c179e\"],[0.4444444444444444,\"#bd3786\"],[0.5555555555555556,\"#d8576b\"],[0.6666666666666666,\"#ed7953\"],[0.7777777777777778,\"#fb9f3a\"],[0.8888888888888888,\"#fdca26\"],[1.0,\"#f0f921\"]]}],\"choropleth\":[{\"type\":\"choropleth\",\"colorbar\":{\"outlinewidth\":0,\"ticks\":\"\"}}],\"histogram2d\":[{\"type\":\"histogram2d\",\"colorbar\":{\"outlinewidth\":0,\"ticks\":\"\"},\"colorscale\":[[0.0,\"#0d0887\"],[0.1111111111111111,\"#46039f\"],[0.2222222222222222,\"#7201a8\"],[0.3333333333333333,\"#9c179e\"],[0.4444444444444444,\"#bd3786\"],[0.5555555555555556,\"#d8576b\"],[0.6666666666666666,\"#ed7953\"],[0.7777777777777778,\"#fb9f3a\"],[0.8888888888888888,\"#fdca26\"],[1.0,\"#f0f921\"]]}],\"heatmap\":[{\"type\":\"heatmap\",\"colorbar\":{\"outlinewidth\":0,\"ticks\":\"\"},\"colorscale\":[[0.0,\"#0d0887\"],[0.1111111111111111,\"#46039f\"],[0.2222222222222222,\"#7201a8\"],[0.3333333333333333,\"#9c179e\"],[0.4444444444444444,\"#bd3786\"],[0.5555555555555556,\"#d8576b\"],[0.6666666666666666,\"#ed7953\"],[0.7777777777777778,\"#fb9f3a\"],[0.8888888888888888,\"#fdca26\"],[1.0,\"#f0f921\"]]}],\"heatmapgl\":[{\"type\":\"heatmapgl\",\"colorbar\":{\"outlinewidth\":0,\"ticks\":\"\"},\"colorscale\":[[0.0,\"#0d0887\"],[0.1111111111111111,\"#46039f\"],[0.2222222222222222,\"#7201a8\"],[0.3333333333333333,\"#9c179e\"],[0.4444444444444444,\"#bd3786\"],[0.5555555555555556,\"#d8576b\"],[0.6666666666666666,\"#ed7953\"],[0.7777777777777778,\"#fb9f3a\"],[0.8888888888888888,\"#fdca26\"],[1.0,\"#f0f921\"]]}],\"contourcarpet\":[{\"type\":\"contourcarpet\",\"colorbar\":{\"outlinewidth\":0,\"ticks\":\"\"}}],\"contour\":[{\"type\":\"contour\",\"colorbar\":{\"outlinewidth\":0,\"ticks\":\"\"},\"colorscale\":[[0.0,\"#0d0887\"],[0.1111111111111111,\"#46039f\"],[0.2222222222222222,\"#7201a8\"],[0.3333333333333333,\"#9c179e\"],[0.4444444444444444,\"#bd3786\"],[0.5555555555555556,\"#d8576b\"],[0.6666666666666666,\"#ed7953\"],[0.7777777777777778,\"#fb9f3a\"],[0.8888888888888888,\"#fdca26\"],[1.0,\"#f0f921\"]]}],\"surface\":[{\"type\":\"surface\",\"colorbar\":{\"outlinewidth\":0,\"ticks\":\"\"},\"colorscale\":[[0.0,\"#0d0887\"],[0.1111111111111111,\"#46039f\"],[0.2222222222222222,\"#7201a8\"],[0.3333333333333333,\"#9c179e\"],[0.4444444444444444,\"#bd3786\"],[0.5555555555555556,\"#d8576b\"],[0.6666666666666666,\"#ed7953\"],[0.7777777777777778,\"#fb9f3a\"],[0.8888888888888888,\"#fdca26\"],[1.0,\"#f0f921\"]]}],\"mesh3d\":[{\"type\":\"mesh3d\",\"colorbar\":{\"outlinewidth\":0,\"ticks\":\"\"}}],\"scatter\":[{\"fillpattern\":{\"fillmode\":\"overlay\",\"size\":10,\"solidity\":0.2},\"type\":\"scatter\"}],\"parcoords\":[{\"type\":\"parcoords\",\"line\":{\"colorbar\":{\"outlinewidth\":0,\"ticks\":\"\"}}}],\"scatterpolargl\":[{\"type\":\"scatterpolargl\",\"marker\":{\"colorbar\":{\"outlinewidth\":0,\"ticks\":\"\"}}}],\"bar\":[{\"error_x\":{\"color\":\"#2a3f5f\"},\"error_y\":{\"color\":\"#2a3f5f\"},\"marker\":{\"line\":{\"color\":\"white\",\"width\":0.5},\"pattern\":{\"fillmode\":\"overlay\",\"size\":10,\"solidity\":0.2}},\"type\":\"bar\"}],\"scattergeo\":[{\"type\":\"scattergeo\",\"marker\":{\"colorbar\":{\"outlinewidth\":0,\"ticks\":\"\"}}}],\"scatterpolar\":[{\"type\":\"scatterpolar\",\"marker\":{\"colorbar\":{\"outlinewidth\":0,\"ticks\":\"\"}}}],\"histogram\":[{\"marker\":{\"pattern\":{\"fillmode\":\"overlay\",\"size\":10,\"solidity\":0.2}},\"type\":\"histogram\"}],\"scattergl\":[{\"type\":\"scattergl\",\"marker\":{\"colorbar\":{\"outlinewidth\":0,\"ticks\":\"\"}}}],\"scatter3d\":[{\"type\":\"scatter3d\",\"line\":{\"colorbar\":{\"outlinewidth\":0,\"ticks\":\"\"}},\"marker\":{\"colorbar\":{\"outlinewidth\":0,\"ticks\":\"\"}}}],\"scattermapbox\":[{\"type\":\"scattermapbox\",\"marker\":{\"colorbar\":{\"outlinewidth\":0,\"ticks\":\"\"}}}],\"scatterternary\":[{\"type\":\"scatterternary\",\"marker\":{\"colorbar\":{\"outlinewidth\":0,\"ticks\":\"\"}}}],\"scattercarpet\":[{\"type\":\"scattercarpet\",\"marker\":{\"colorbar\":{\"outlinewidth\":0,\"ticks\":\"\"}}}],\"carpet\":[{\"aaxis\":{\"endlinecolor\":\"#2a3f5f\",\"gridcolor\":\"#C8D4E3\",\"linecolor\":\"#C8D4E3\",\"minorgridcolor\":\"#C8D4E3\",\"startlinecolor\":\"#2a3f5f\"},\"baxis\":{\"endlinecolor\":\"#2a3f5f\",\"gridcolor\":\"#C8D4E3\",\"linecolor\":\"#C8D4E3\",\"minorgridcolor\":\"#C8D4E3\",\"startlinecolor\":\"#2a3f5f\"},\"type\":\"carpet\"}],\"table\":[{\"cells\":{\"fill\":{\"color\":\"#EBF0F8\"},\"line\":{\"color\":\"white\"}},\"header\":{\"fill\":{\"color\":\"#C8D4E3\"},\"line\":{\"color\":\"white\"}},\"type\":\"table\"}],\"barpolar\":[{\"marker\":{\"line\":{\"color\":\"white\",\"width\":0.5},\"pattern\":{\"fillmode\":\"overlay\",\"size\":10,\"solidity\":0.2}},\"type\":\"barpolar\"}],\"pie\":[{\"automargin\":true,\"type\":\"pie\"}]},\"layout\":{\"autotypenumbers\":\"strict\",\"colorway\":[\"#636efa\",\"#EF553B\",\"#00cc96\",\"#ab63fa\",\"#FFA15A\",\"#19d3f3\",\"#FF6692\",\"#B6E880\",\"#FF97FF\",\"#FECB52\"],\"font\":{\"color\":\"#2a3f5f\"},\"hovermode\":\"closest\",\"hoverlabel\":{\"align\":\"left\"},\"paper_bgcolor\":\"white\",\"plot_bgcolor\":\"white\",\"polar\":{\"bgcolor\":\"white\",\"angularaxis\":{\"gridcolor\":\"#EBF0F8\",\"linecolor\":\"#EBF0F8\",\"ticks\":\"\"},\"radialaxis\":{\"gridcolor\":\"#EBF0F8\",\"linecolor\":\"#EBF0F8\",\"ticks\":\"\"}},\"ternary\":{\"bgcolor\":\"white\",\"aaxis\":{\"gridcolor\":\"#DFE8F3\",\"linecolor\":\"#A2B1C6\",\"ticks\":\"\"},\"baxis\":{\"gridcolor\":\"#DFE8F3\",\"linecolor\":\"#A2B1C6\",\"ticks\":\"\"},\"caxis\":{\"gridcolor\":\"#DFE8F3\",\"linecolor\":\"#A2B1C6\",\"ticks\":\"\"}},\"coloraxis\":{\"colorbar\":{\"outlinewidth\":0,\"ticks\":\"\"}},\"colorscale\":{\"sequential\":[[0.0,\"#0d0887\"],[0.1111111111111111,\"#46039f\"],[0.2222222222222222,\"#7201a8\"],[0.3333333333333333,\"#9c179e\"],[0.4444444444444444,\"#bd3786\"],[0.5555555555555556,\"#d8576b\"],[0.6666666666666666,\"#ed7953\"],[0.7777777777777778,\"#fb9f3a\"],[0.8888888888888888,\"#fdca26\"],[1.0,\"#f0f921\"]],\"sequentialminus\":[[0.0,\"#0d0887\"],[0.1111111111111111,\"#46039f\"],[0.2222222222222222,\"#7201a8\"],[0.3333333333333333,\"#9c179e\"],[0.4444444444444444,\"#bd3786\"],[0.5555555555555556,\"#d8576b\"],[0.6666666666666666,\"#ed7953\"],[0.7777777777777778,\"#fb9f3a\"],[0.8888888888888888,\"#fdca26\"],[1.0,\"#f0f921\"]],\"diverging\":[[0,\"#8e0152\"],[0.1,\"#c51b7d\"],[0.2,\"#de77ae\"],[0.3,\"#f1b6da\"],[0.4,\"#fde0ef\"],[0.5,\"#f7f7f7\"],[0.6,\"#e6f5d0\"],[0.7,\"#b8e186\"],[0.8,\"#7fbc41\"],[0.9,\"#4d9221\"],[1,\"#276419\"]]},\"xaxis\":{\"gridcolor\":\"#EBF0F8\",\"linecolor\":\"#EBF0F8\",\"ticks\":\"\",\"title\":{\"standoff\":15},\"zerolinecolor\":\"#EBF0F8\",\"automargin\":true,\"zerolinewidth\":2},\"yaxis\":{\"gridcolor\":\"#EBF0F8\",\"linecolor\":\"#EBF0F8\",\"ticks\":\"\",\"title\":{\"standoff\":15},\"zerolinecolor\":\"#EBF0F8\",\"automargin\":true,\"zerolinewidth\":2},\"scene\":{\"xaxis\":{\"backgroundcolor\":\"white\",\"gridcolor\":\"#DFE8F3\",\"linecolor\":\"#EBF0F8\",\"showbackground\":true,\"ticks\":\"\",\"zerolinecolor\":\"#EBF0F8\",\"gridwidth\":2},\"yaxis\":{\"backgroundcolor\":\"white\",\"gridcolor\":\"#DFE8F3\",\"linecolor\":\"#EBF0F8\",\"showbackground\":true,\"ticks\":\"\",\"zerolinecolor\":\"#EBF0F8\",\"gridwidth\":2},\"zaxis\":{\"backgroundcolor\":\"white\",\"gridcolor\":\"#DFE8F3\",\"linecolor\":\"#EBF0F8\",\"showbackground\":true,\"ticks\":\"\",\"zerolinecolor\":\"#EBF0F8\",\"gridwidth\":2}},\"shapedefaults\":{\"line\":{\"color\":\"#2a3f5f\"}},\"annotationdefaults\":{\"arrowcolor\":\"#2a3f5f\",\"arrowhead\":0,\"arrowwidth\":1},\"geo\":{\"bgcolor\":\"white\",\"landcolor\":\"white\",\"subunitcolor\":\"#C8D4E3\",\"showland\":true,\"showlakes\":true,\"lakecolor\":\"white\"},\"title\":{\"x\":0.05},\"mapbox\":{\"style\":\"light\"}}},\"xaxis\":{\"anchor\":\"y\",\"domain\":[0.0,1.0],\"title\":{\"text\":\"Time\",\"font\":{\"size\":12}}},\"yaxis\":{\"anchor\":\"x\",\"domain\":[0.0,1.0],\"title\":{\"text\":\"Value\",\"font\":{\"size\":12}}},\"legend\":{\"tracegroupgap\":0},\"margin\":{\"t\":60},\"title\":{\"font\":{\"size\":25},\"text\":\"Pseudo Periodic with AutoRegression and White Noise\",\"x\":0.5,\"xanchor\":\"center\",\"yanchor\":\"top\"},\"autosize\":false,\"width\":900,\"height\":500},                        {\"responsive\": true}                    ).then(function(){\n",
              "                            \n",
              "var gd = document.getElementById('4afd246d-7ac8-4fa5-bef2-a2cb49d8fed3');\n",
              "var x = new MutationObserver(function (mutations, observer) {{\n",
              "        var display = window.getComputedStyle(gd).display;\n",
              "        if (!display || display === 'none') {{\n",
              "            console.log([gd, 'removed!']);\n",
              "            Plotly.purge(gd);\n",
              "            observer.disconnect();\n",
              "        }}\n",
              "}});\n",
              "\n",
              "// Listen for the removal of the full notebook cells\n",
              "var notebookContainer = gd.closest('#notebook-container');\n",
              "if (notebookContainer) {{\n",
              "    x.observe(notebookContainer, {childList: true});\n",
              "}}\n",
              "\n",
              "// Listen for the clearing of the current output cell\n",
              "var outputEl = gd.closest('.output');\n",
              "if (outputEl) {{\n",
              "    x.observe(outputEl, {childList: true});\n",
              "}}\n",
              "\n",
              "                        })                };                            </script>        </div>\n",
              "</body>\n",
              "</html>"
            ]
          },
          "metadata": {}
        }
      ]
    },
    {
      "cell_type": "markdown",
      "source": [
        "# Stationary and Non-Stationary Time Series"
      ],
      "metadata": {
        "id": "0Xr5kfRmEMXD"
      }
    },
    {
      "cell_type": "markdown",
      "source": [
        "## Non-Stationary Time Series"
      ],
      "metadata": {
        "id": "BMm-S3xEEUcy"
      }
    },
    {
      "cell_type": "code",
      "source": [
        "# Sinsoidal Signal with Amplitude=1 & Frequency=0.25\n",
        "signal = ts.signals.Sinusoidal(amplitude=1, frequency=0.25)\n",
        "\n",
        "# White noise with standard deviation = 0.3\n",
        "noise = ts.noise.GaussianNoise(std=0.3)\n",
        "\n",
        "# Generate the time series\n",
        "sinusoidal_samples, regular_time_samples, _, _ = generate_timeseries(signal=signal, noise=noise)\n",
        "\n",
        "# # Regular_time_samples is a linear increasing time axis and can be used as a trend\n",
        "trend = regular_time_samples * 0.4\n",
        "\n",
        "# Combining the signal and trend\n",
        "ts = sinusoidal_samples + trend\n",
        "plot_time_series(regular_time_samples, ts, \"Sinusoidal with Trend and White Noise\")"
      ],
      "metadata": {
        "colab": {
          "base_uri": "https://localhost:8080/",
          "height": 517
        },
        "id": "qojPAFoCC976",
        "outputId": "7379bfcd-e4e6-47d8-f004-97aff4d3cd1a"
      },
      "execution_count": 68,
      "outputs": [
        {
          "output_type": "display_data",
          "data": {
            "text/html": [
              "<html>\n",
              "<head><meta charset=\"utf-8\" /></head>\n",
              "<body>\n",
              "    <div>            <script src=\"https://cdnjs.cloudflare.com/ajax/libs/mathjax/2.7.5/MathJax.js?config=TeX-AMS-MML_SVG\"></script><script type=\"text/javascript\">if (window.MathJax && window.MathJax.Hub && window.MathJax.Hub.Config) {window.MathJax.Hub.Config({SVG: {font: \"STIX-Web\"}});}</script>                <script type=\"text/javascript\">window.PlotlyConfig = {MathJaxConfig: 'local'};</script>\n",
              "        <script charset=\"utf-8\" src=\"https://cdn.plot.ly/plotly-2.24.1.min.js\"></script>                <div id=\"152cf962-033d-4b4f-9be6-c442f99adcce\" class=\"plotly-graph-div\" style=\"height:500px; width:900px;\"></div>            <script type=\"text/javascript\">                                    window.PLOTLYENV=window.PLOTLYENV || {};                                    if (document.getElementById(\"152cf962-033d-4b4f-9be6-c442f99adcce\")) {                    Plotly.newPlot(                        \"152cf962-033d-4b4f-9be6-c442f99adcce\",                        [{\"hovertemplate\":\"Time=%{x}\\u003cbr\\u003eValue=%{y}\\u003cextra\\u003e\\u003c\\u002fextra\\u003e\",\"legendgroup\":\"\",\"line\":{\"color\":\"#636efa\",\"dash\":\"solid\"},\"marker\":{\"symbol\":\"circle\"},\"mode\":\"lines\",\"name\":\"\",\"orientation\":\"v\",\"showlegend\":false,\"x\":[0.0,0.20202020202020202,0.40404040404040403,0.6060606060606061,0.8080808080808081,1.0101010101010102,1.2121212121212122,1.4141414141414141,1.6161616161616161,1.8181818181818181,2.0202020202020203,2.2222222222222223,2.4242424242424243,2.6262626262626263,2.8282828282828283,3.0303030303030303,3.2323232323232323,3.4343434343434343,3.6363636363636362,3.8383838383838382,4.040404040404041,4.242424242424242,4.444444444444445,4.646464646464646,4.848484848484849,5.05050505050505,5.252525252525253,5.454545454545454,5.656565656565657,5.858585858585858,6.0606060606060606,6.262626262626262,6.4646464646464645,6.666666666666667,6.8686868686868685,7.070707070707071,7.2727272727272725,7.474747474747475,7.6767676767676765,7.878787878787879,8.080808080808081,8.282828282828282,8.484848484848484,8.686868686868687,8.88888888888889,9.09090909090909,9.292929292929292,9.494949494949495,9.696969696969697,9.8989898989899,10.1010101010101,10.303030303030303,10.505050505050505,10.707070707070708,10.909090909090908,11.11111111111111,11.313131313131313,11.515151515151516,11.717171717171716,11.919191919191919,12.121212121212121,12.323232323232324,12.525252525252524,12.727272727272727,12.929292929292929,13.131313131313131,13.333333333333334,13.535353535353535,13.737373737373737,13.93939393939394,14.141414141414142,14.343434343434343,14.545454545454545,14.747474747474747,14.94949494949495,15.15151515151515,15.353535353535353,15.555555555555555,15.757575757575758,15.959595959595958,16.161616161616163,16.363636363636363,16.565656565656564,16.767676767676768,16.96969696969697,17.171717171717173,17.373737373737374,17.575757575757574,17.77777777777778,17.97979797979798,18.18181818181818,18.383838383838384,18.585858585858585,18.78787878787879,18.98989898989899,19.19191919191919,19.393939393939394,19.595959595959595,19.7979797979798,20.0],\"xaxis\":\"x\",\"y\":[0.1466721747583943,0.778834805360267,1.174200476694504,0.9570870692238347,0.751217658655186,1.5009851655506652,1.2688921091531045,0.8966750448008829,1.209767559690957,1.0166570752912618,0.7478488440411102,1.0175183563074732,0.5557877017981996,-0.01722748708738253,0.08091084532712944,0.007498571681229915,0.2372957667931126,0.19922773630341029,0.6065463022079298,1.4857329123371468,1.0906411060004868,2.404377202730795,2.602841374971735,2.643949391503052,2.495301783264937,2.9499935189471147,3.490925093106423,2.988524906235626,2.4534237194729043,2.2216390972201645,2.1904867939297166,2.675500309313241,1.8374003196448085,1.7732227097787245,1.721938864263478,2.113238466751203,2.486346082142846,2.155438421772921,3.4895827957982446,2.8475545514539222,3.1819869169861774,3.471594169772692,4.073790732387742,4.590066803236846,4.375349894183685,4.429278625107101,4.780069815489758,4.5373861788069165,4.1569243450661535,4.342201871993757,4.25254108708853,3.2358141702332084,3.4488864304694915,3.597117622416998,3.2760945641371757,3.7666900347606314,4.274153872751471,3.701217546041343,4.420319820880997,5.019060374596353,4.553119300968085,5.320925806905163,6.118929504067433,5.996695665251374,5.672443750240442,6.03834513252301,5.875721293866882,6.17679672234463,6.040650218920081,5.637807349479334,4.589851278423067,5.166595818798495,4.592945331431736,4.521475281177277,4.661770370339113,4.155688461300198,4.811195936072521,5.648914446900353,5.921952910211158,6.514295034942925,7.31970172097722,7.119163933421373,7.842854427423924,8.14940297034515,7.3500721985856305,7.407043262347073,8.056501305838392,7.891642353779577,7.3109983978302004,7.177622375198416,7.142694194186766,7.266091776352287,6.59716744813246,6.613097310165319,6.307361387838213,6.676337311169883,6.708626001478782,7.18609903001423,7.31551973841995,7.546345470305197],\"yaxis\":\"y\",\"type\":\"scatter\"}],                        {\"template\":{\"data\":{\"histogram2dcontour\":[{\"type\":\"histogram2dcontour\",\"colorbar\":{\"outlinewidth\":0,\"ticks\":\"\"},\"colorscale\":[[0.0,\"#0d0887\"],[0.1111111111111111,\"#46039f\"],[0.2222222222222222,\"#7201a8\"],[0.3333333333333333,\"#9c179e\"],[0.4444444444444444,\"#bd3786\"],[0.5555555555555556,\"#d8576b\"],[0.6666666666666666,\"#ed7953\"],[0.7777777777777778,\"#fb9f3a\"],[0.8888888888888888,\"#fdca26\"],[1.0,\"#f0f921\"]]}],\"choropleth\":[{\"type\":\"choropleth\",\"colorbar\":{\"outlinewidth\":0,\"ticks\":\"\"}}],\"histogram2d\":[{\"type\":\"histogram2d\",\"colorbar\":{\"outlinewidth\":0,\"ticks\":\"\"},\"colorscale\":[[0.0,\"#0d0887\"],[0.1111111111111111,\"#46039f\"],[0.2222222222222222,\"#7201a8\"],[0.3333333333333333,\"#9c179e\"],[0.4444444444444444,\"#bd3786\"],[0.5555555555555556,\"#d8576b\"],[0.6666666666666666,\"#ed7953\"],[0.7777777777777778,\"#fb9f3a\"],[0.8888888888888888,\"#fdca26\"],[1.0,\"#f0f921\"]]}],\"heatmap\":[{\"type\":\"heatmap\",\"colorbar\":{\"outlinewidth\":0,\"ticks\":\"\"},\"colorscale\":[[0.0,\"#0d0887\"],[0.1111111111111111,\"#46039f\"],[0.2222222222222222,\"#7201a8\"],[0.3333333333333333,\"#9c179e\"],[0.4444444444444444,\"#bd3786\"],[0.5555555555555556,\"#d8576b\"],[0.6666666666666666,\"#ed7953\"],[0.7777777777777778,\"#fb9f3a\"],[0.8888888888888888,\"#fdca26\"],[1.0,\"#f0f921\"]]}],\"heatmapgl\":[{\"type\":\"heatmapgl\",\"colorbar\":{\"outlinewidth\":0,\"ticks\":\"\"},\"colorscale\":[[0.0,\"#0d0887\"],[0.1111111111111111,\"#46039f\"],[0.2222222222222222,\"#7201a8\"],[0.3333333333333333,\"#9c179e\"],[0.4444444444444444,\"#bd3786\"],[0.5555555555555556,\"#d8576b\"],[0.6666666666666666,\"#ed7953\"],[0.7777777777777778,\"#fb9f3a\"],[0.8888888888888888,\"#fdca26\"],[1.0,\"#f0f921\"]]}],\"contourcarpet\":[{\"type\":\"contourcarpet\",\"colorbar\":{\"outlinewidth\":0,\"ticks\":\"\"}}],\"contour\":[{\"type\":\"contour\",\"colorbar\":{\"outlinewidth\":0,\"ticks\":\"\"},\"colorscale\":[[0.0,\"#0d0887\"],[0.1111111111111111,\"#46039f\"],[0.2222222222222222,\"#7201a8\"],[0.3333333333333333,\"#9c179e\"],[0.4444444444444444,\"#bd3786\"],[0.5555555555555556,\"#d8576b\"],[0.6666666666666666,\"#ed7953\"],[0.7777777777777778,\"#fb9f3a\"],[0.8888888888888888,\"#fdca26\"],[1.0,\"#f0f921\"]]}],\"surface\":[{\"type\":\"surface\",\"colorbar\":{\"outlinewidth\":0,\"ticks\":\"\"},\"colorscale\":[[0.0,\"#0d0887\"],[0.1111111111111111,\"#46039f\"],[0.2222222222222222,\"#7201a8\"],[0.3333333333333333,\"#9c179e\"],[0.4444444444444444,\"#bd3786\"],[0.5555555555555556,\"#d8576b\"],[0.6666666666666666,\"#ed7953\"],[0.7777777777777778,\"#fb9f3a\"],[0.8888888888888888,\"#fdca26\"],[1.0,\"#f0f921\"]]}],\"mesh3d\":[{\"type\":\"mesh3d\",\"colorbar\":{\"outlinewidth\":0,\"ticks\":\"\"}}],\"scatter\":[{\"fillpattern\":{\"fillmode\":\"overlay\",\"size\":10,\"solidity\":0.2},\"type\":\"scatter\"}],\"parcoords\":[{\"type\":\"parcoords\",\"line\":{\"colorbar\":{\"outlinewidth\":0,\"ticks\":\"\"}}}],\"scatterpolargl\":[{\"type\":\"scatterpolargl\",\"marker\":{\"colorbar\":{\"outlinewidth\":0,\"ticks\":\"\"}}}],\"bar\":[{\"error_x\":{\"color\":\"#2a3f5f\"},\"error_y\":{\"color\":\"#2a3f5f\"},\"marker\":{\"line\":{\"color\":\"white\",\"width\":0.5},\"pattern\":{\"fillmode\":\"overlay\",\"size\":10,\"solidity\":0.2}},\"type\":\"bar\"}],\"scattergeo\":[{\"type\":\"scattergeo\",\"marker\":{\"colorbar\":{\"outlinewidth\":0,\"ticks\":\"\"}}}],\"scatterpolar\":[{\"type\":\"scatterpolar\",\"marker\":{\"colorbar\":{\"outlinewidth\":0,\"ticks\":\"\"}}}],\"histogram\":[{\"marker\":{\"pattern\":{\"fillmode\":\"overlay\",\"size\":10,\"solidity\":0.2}},\"type\":\"histogram\"}],\"scattergl\":[{\"type\":\"scattergl\",\"marker\":{\"colorbar\":{\"outlinewidth\":0,\"ticks\":\"\"}}}],\"scatter3d\":[{\"type\":\"scatter3d\",\"line\":{\"colorbar\":{\"outlinewidth\":0,\"ticks\":\"\"}},\"marker\":{\"colorbar\":{\"outlinewidth\":0,\"ticks\":\"\"}}}],\"scattermapbox\":[{\"type\":\"scattermapbox\",\"marker\":{\"colorbar\":{\"outlinewidth\":0,\"ticks\":\"\"}}}],\"scatterternary\":[{\"type\":\"scatterternary\",\"marker\":{\"colorbar\":{\"outlinewidth\":0,\"ticks\":\"\"}}}],\"scattercarpet\":[{\"type\":\"scattercarpet\",\"marker\":{\"colorbar\":{\"outlinewidth\":0,\"ticks\":\"\"}}}],\"carpet\":[{\"aaxis\":{\"endlinecolor\":\"#2a3f5f\",\"gridcolor\":\"#C8D4E3\",\"linecolor\":\"#C8D4E3\",\"minorgridcolor\":\"#C8D4E3\",\"startlinecolor\":\"#2a3f5f\"},\"baxis\":{\"endlinecolor\":\"#2a3f5f\",\"gridcolor\":\"#C8D4E3\",\"linecolor\":\"#C8D4E3\",\"minorgridcolor\":\"#C8D4E3\",\"startlinecolor\":\"#2a3f5f\"},\"type\":\"carpet\"}],\"table\":[{\"cells\":{\"fill\":{\"color\":\"#EBF0F8\"},\"line\":{\"color\":\"white\"}},\"header\":{\"fill\":{\"color\":\"#C8D4E3\"},\"line\":{\"color\":\"white\"}},\"type\":\"table\"}],\"barpolar\":[{\"marker\":{\"line\":{\"color\":\"white\",\"width\":0.5},\"pattern\":{\"fillmode\":\"overlay\",\"size\":10,\"solidity\":0.2}},\"type\":\"barpolar\"}],\"pie\":[{\"automargin\":true,\"type\":\"pie\"}]},\"layout\":{\"autotypenumbers\":\"strict\",\"colorway\":[\"#636efa\",\"#EF553B\",\"#00cc96\",\"#ab63fa\",\"#FFA15A\",\"#19d3f3\",\"#FF6692\",\"#B6E880\",\"#FF97FF\",\"#FECB52\"],\"font\":{\"color\":\"#2a3f5f\"},\"hovermode\":\"closest\",\"hoverlabel\":{\"align\":\"left\"},\"paper_bgcolor\":\"white\",\"plot_bgcolor\":\"white\",\"polar\":{\"bgcolor\":\"white\",\"angularaxis\":{\"gridcolor\":\"#EBF0F8\",\"linecolor\":\"#EBF0F8\",\"ticks\":\"\"},\"radialaxis\":{\"gridcolor\":\"#EBF0F8\",\"linecolor\":\"#EBF0F8\",\"ticks\":\"\"}},\"ternary\":{\"bgcolor\":\"white\",\"aaxis\":{\"gridcolor\":\"#DFE8F3\",\"linecolor\":\"#A2B1C6\",\"ticks\":\"\"},\"baxis\":{\"gridcolor\":\"#DFE8F3\",\"linecolor\":\"#A2B1C6\",\"ticks\":\"\"},\"caxis\":{\"gridcolor\":\"#DFE8F3\",\"linecolor\":\"#A2B1C6\",\"ticks\":\"\"}},\"coloraxis\":{\"colorbar\":{\"outlinewidth\":0,\"ticks\":\"\"}},\"colorscale\":{\"sequential\":[[0.0,\"#0d0887\"],[0.1111111111111111,\"#46039f\"],[0.2222222222222222,\"#7201a8\"],[0.3333333333333333,\"#9c179e\"],[0.4444444444444444,\"#bd3786\"],[0.5555555555555556,\"#d8576b\"],[0.6666666666666666,\"#ed7953\"],[0.7777777777777778,\"#fb9f3a\"],[0.8888888888888888,\"#fdca26\"],[1.0,\"#f0f921\"]],\"sequentialminus\":[[0.0,\"#0d0887\"],[0.1111111111111111,\"#46039f\"],[0.2222222222222222,\"#7201a8\"],[0.3333333333333333,\"#9c179e\"],[0.4444444444444444,\"#bd3786\"],[0.5555555555555556,\"#d8576b\"],[0.6666666666666666,\"#ed7953\"],[0.7777777777777778,\"#fb9f3a\"],[0.8888888888888888,\"#fdca26\"],[1.0,\"#f0f921\"]],\"diverging\":[[0,\"#8e0152\"],[0.1,\"#c51b7d\"],[0.2,\"#de77ae\"],[0.3,\"#f1b6da\"],[0.4,\"#fde0ef\"],[0.5,\"#f7f7f7\"],[0.6,\"#e6f5d0\"],[0.7,\"#b8e186\"],[0.8,\"#7fbc41\"],[0.9,\"#4d9221\"],[1,\"#276419\"]]},\"xaxis\":{\"gridcolor\":\"#EBF0F8\",\"linecolor\":\"#EBF0F8\",\"ticks\":\"\",\"title\":{\"standoff\":15},\"zerolinecolor\":\"#EBF0F8\",\"automargin\":true,\"zerolinewidth\":2},\"yaxis\":{\"gridcolor\":\"#EBF0F8\",\"linecolor\":\"#EBF0F8\",\"ticks\":\"\",\"title\":{\"standoff\":15},\"zerolinecolor\":\"#EBF0F8\",\"automargin\":true,\"zerolinewidth\":2},\"scene\":{\"xaxis\":{\"backgroundcolor\":\"white\",\"gridcolor\":\"#DFE8F3\",\"linecolor\":\"#EBF0F8\",\"showbackground\":true,\"ticks\":\"\",\"zerolinecolor\":\"#EBF0F8\",\"gridwidth\":2},\"yaxis\":{\"backgroundcolor\":\"white\",\"gridcolor\":\"#DFE8F3\",\"linecolor\":\"#EBF0F8\",\"showbackground\":true,\"ticks\":\"\",\"zerolinecolor\":\"#EBF0F8\",\"gridwidth\":2},\"zaxis\":{\"backgroundcolor\":\"white\",\"gridcolor\":\"#DFE8F3\",\"linecolor\":\"#EBF0F8\",\"showbackground\":true,\"ticks\":\"\",\"zerolinecolor\":\"#EBF0F8\",\"gridwidth\":2}},\"shapedefaults\":{\"line\":{\"color\":\"#2a3f5f\"}},\"annotationdefaults\":{\"arrowcolor\":\"#2a3f5f\",\"arrowhead\":0,\"arrowwidth\":1},\"geo\":{\"bgcolor\":\"white\",\"landcolor\":\"white\",\"subunitcolor\":\"#C8D4E3\",\"showland\":true,\"showlakes\":true,\"lakecolor\":\"white\"},\"title\":{\"x\":0.05},\"mapbox\":{\"style\":\"light\"}}},\"xaxis\":{\"anchor\":\"y\",\"domain\":[0.0,1.0],\"title\":{\"text\":\"Time\",\"font\":{\"size\":12}}},\"yaxis\":{\"anchor\":\"x\",\"domain\":[0.0,1.0],\"title\":{\"text\":\"Value\",\"font\":{\"size\":12}}},\"legend\":{\"tracegroupgap\":0},\"margin\":{\"t\":60},\"title\":{\"font\":{\"size\":25},\"text\":\"Sinusoidal with Trend and White Noise\",\"x\":0.5,\"xanchor\":\"center\",\"yanchor\":\"top\"},\"autosize\":false,\"width\":900,\"height\":500},                        {\"responsive\": true}                    ).then(function(){\n",
              "                            \n",
              "var gd = document.getElementById('152cf962-033d-4b4f-9be6-c442f99adcce');\n",
              "var x = new MutationObserver(function (mutations, observer) {{\n",
              "        var display = window.getComputedStyle(gd).display;\n",
              "        if (!display || display === 'none') {{\n",
              "            console.log([gd, 'removed!']);\n",
              "            Plotly.purge(gd);\n",
              "            observer.disconnect();\n",
              "        }}\n",
              "}});\n",
              "\n",
              "// Listen for the removal of the full notebook cells\n",
              "var notebookContainer = gd.closest('#notebook-container');\n",
              "if (notebookContainer) {{\n",
              "    x.observe(notebookContainer, {childList: true});\n",
              "}}\n",
              "\n",
              "// Listen for the clearing of the current output cell\n",
              "var outputEl = gd.closest('.output');\n",
              "if (outputEl) {{\n",
              "    x.observe(outputEl, {childList: true});\n",
              "}}\n",
              "\n",
              "                        })                };                            </script>        </div>\n",
              "</body>\n",
              "</html>"
            ]
          },
          "metadata": {}
        }
      ]
    },
    {
      "cell_type": "code",
      "source": [],
      "metadata": {
        "id": "mgDKo6LwF9So"
      },
      "execution_count": null,
      "outputs": []
    }
  ]
}